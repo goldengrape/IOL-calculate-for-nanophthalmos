{
 "cells": [
  {
   "cell_type": "markdown",
   "metadata": {},
   "source": [
    "# 小眼球患者的IOL度数计算"
   ]
  },
  {
   "cell_type": "markdown",
   "metadata": {},
   "source": [
    "## 数据读取和清洗"
   ]
  },
  {
   "cell_type": "code",
   "execution_count": 1,
   "metadata": {},
   "outputs": [],
   "source": [
    "# 导入必要的工具包\n",
    "import pandas as pd\n",
    "import numpy as np\n",
    "import os\n",
    "from sklearn.model_selection import train_test_split\n"
   ]
  },
  {
   "cell_type": "markdown",
   "metadata": {},
   "source": [
    "读取数据记录, 数据放置在`data\\IOL_data.csv`文件中, 由于csv文件相对于excel文件更容易处理一些, 所以在excel中将原始数据另存为csv文件. 为方便操作, 将原来的中文字段名手工修改成英文字段名."
   ]
  },
  {
   "cell_type": "code",
   "execution_count": 2,
   "metadata": {},
   "outputs": [
    {
     "data": {
      "text/html": [
       "<div>\n",
       "<style scoped>\n",
       "    .dataframe tbody tr th:only-of-type {\n",
       "        vertical-align: middle;\n",
       "    }\n",
       "\n",
       "    .dataframe tbody tr th {\n",
       "        vertical-align: top;\n",
       "    }\n",
       "\n",
       "    .dataframe thead th {\n",
       "        text-align: right;\n",
       "    }\n",
       "</style>\n",
       "<table border=\"1\" class=\"dataframe\">\n",
       "  <thead>\n",
       "    <tr style=\"text-align: right;\">\n",
       "      <th></th>\n",
       "      <th>name</th>\n",
       "      <th>age</th>\n",
       "      <th>gender</th>\n",
       "      <th>eye</th>\n",
       "      <th>op</th>\n",
       "      <th>AL</th>\n",
       "      <th>K1</th>\n",
       "      <th>K2</th>\n",
       "      <th>ACD</th>\n",
       "      <th>Pen_B</th>\n",
       "      <th>...</th>\n",
       "      <th>ACD_Pen</th>\n",
       "      <th>DS</th>\n",
       "      <th>DC</th>\n",
       "      <th>Axis</th>\n",
       "      <th>VA</th>\n",
       "      <th>BCVA</th>\n",
       "      <th>IOL</th>\n",
       "      <th>target</th>\n",
       "      <th>IOL_type</th>\n",
       "      <th>comment</th>\n",
       "    </tr>\n",
       "  </thead>\n",
       "  <tbody>\n",
       "    <tr>\n",
       "      <th>0</th>\n",
       "      <td>潘雅茹</td>\n",
       "      <td>80.0</td>\n",
       "      <td>2</td>\n",
       "      <td>2</td>\n",
       "      <td>3.0</td>\n",
       "      <td>NaN</td>\n",
       "      <td>41.62</td>\n",
       "      <td>43.49</td>\n",
       "      <td>1.96</td>\n",
       "      <td>NaN</td>\n",
       "      <td>...</td>\n",
       "      <td>NaN</td>\n",
       "      <td>1.00</td>\n",
       "      <td>-2.50</td>\n",
       "      <td>80.0</td>\n",
       "      <td>0.4</td>\n",
       "      <td>0.5</td>\n",
       "      <td>28.5</td>\n",
       "      <td>0.19</td>\n",
       "      <td>tecnis</td>\n",
       "      <td>NaN</td>\n",
       "    </tr>\n",
       "    <tr>\n",
       "      <th>1</th>\n",
       "      <td>辛树林</td>\n",
       "      <td>62.0</td>\n",
       "      <td>1</td>\n",
       "      <td>1</td>\n",
       "      <td>1.0</td>\n",
       "      <td>NaN</td>\n",
       "      <td>41.26</td>\n",
       "      <td>41.82</td>\n",
       "      <td>2.92</td>\n",
       "      <td>NaN</td>\n",
       "      <td>...</td>\n",
       "      <td>NaN</td>\n",
       "      <td>-0.50</td>\n",
       "      <td>NaN</td>\n",
       "      <td>NaN</td>\n",
       "      <td>NaN</td>\n",
       "      <td>1.0</td>\n",
       "      <td>21.0</td>\n",
       "      <td>-0.25</td>\n",
       "      <td>tecnis</td>\n",
       "      <td>NaN</td>\n",
       "    </tr>\n",
       "    <tr>\n",
       "      <th>2</th>\n",
       "      <td>尉淑霞</td>\n",
       "      <td>74.0</td>\n",
       "      <td>2</td>\n",
       "      <td>1</td>\n",
       "      <td>1.0</td>\n",
       "      <td>NaN</td>\n",
       "      <td>NaN</td>\n",
       "      <td>NaN</td>\n",
       "      <td>NaN</td>\n",
       "      <td>NaN</td>\n",
       "      <td>...</td>\n",
       "      <td>NaN</td>\n",
       "      <td>-1.25</td>\n",
       "      <td>-1.50</td>\n",
       "      <td>85.0</td>\n",
       "      <td>NaN</td>\n",
       "      <td>NaN</td>\n",
       "      <td>25.0</td>\n",
       "      <td>-0.16</td>\n",
       "      <td>tecnis</td>\n",
       "      <td>NaN</td>\n",
       "    </tr>\n",
       "    <tr>\n",
       "      <th>3</th>\n",
       "      <td>尉淑霞</td>\n",
       "      <td>74.0</td>\n",
       "      <td>2</td>\n",
       "      <td>2</td>\n",
       "      <td>1.0</td>\n",
       "      <td>NaN</td>\n",
       "      <td>NaN</td>\n",
       "      <td>NaN</td>\n",
       "      <td>NaN</td>\n",
       "      <td>NaN</td>\n",
       "      <td>...</td>\n",
       "      <td>NaN</td>\n",
       "      <td>0.25</td>\n",
       "      <td>-2.00</td>\n",
       "      <td>105.0</td>\n",
       "      <td>NaN</td>\n",
       "      <td>NaN</td>\n",
       "      <td>24.0</td>\n",
       "      <td>-0.21</td>\n",
       "      <td>tecnis</td>\n",
       "      <td>颞侧视岛</td>\n",
       "    </tr>\n",
       "    <tr>\n",
       "      <th>4</th>\n",
       "      <td>汲爱芝</td>\n",
       "      <td>73.0</td>\n",
       "      <td>2</td>\n",
       "      <td>1</td>\n",
       "      <td>1.0</td>\n",
       "      <td>NaN</td>\n",
       "      <td>45.42</td>\n",
       "      <td>46.23</td>\n",
       "      <td>2.81</td>\n",
       "      <td>NaN</td>\n",
       "      <td>...</td>\n",
       "      <td>NaN</td>\n",
       "      <td>-0.75</td>\n",
       "      <td>-0.75</td>\n",
       "      <td>90.0</td>\n",
       "      <td>0.6</td>\n",
       "      <td>0.8</td>\n",
       "      <td>23.5</td>\n",
       "      <td>-0.28</td>\n",
       "      <td>tecnis</td>\n",
       "      <td>NaN</td>\n",
       "    </tr>\n",
       "  </tbody>\n",
       "</table>\n",
       "<p>5 rows × 23 columns</p>\n",
       "</div>"
      ],
      "text/plain": [
       "  name   age  gender  eye   op  AL     K1     K2   ACD  Pen_B  ...  ACD_Pen  \\\n",
       "0  潘雅茹  80.0       2    2  3.0 NaN  41.62  43.49  1.96    NaN  ...      NaN   \n",
       "1  辛树林  62.0       1    1  1.0 NaN  41.26  41.82  2.92    NaN  ...      NaN   \n",
       "2  尉淑霞  74.0       2    1  1.0 NaN    NaN    NaN   NaN    NaN  ...      NaN   \n",
       "3  尉淑霞  74.0       2    2  1.0 NaN    NaN    NaN   NaN    NaN  ...      NaN   \n",
       "4  汲爱芝  73.0       2    1  1.0 NaN  45.42  46.23  2.81    NaN  ...      NaN   \n",
       "\n",
       "     DS    DC   Axis   VA  BCVA   IOL  target  IOL_type  comment  \n",
       "0  1.00 -2.50   80.0  0.4   0.5  28.5    0.19    tecnis      NaN  \n",
       "1 -0.50   NaN    NaN  NaN   1.0  21.0   -0.25    tecnis      NaN  \n",
       "2 -1.25 -1.50   85.0  NaN   NaN  25.0   -0.16    tecnis      NaN  \n",
       "3  0.25 -2.00  105.0  NaN   NaN  24.0   -0.21    tecnis     颞侧视岛  \n",
       "4 -0.75 -0.75   90.0  0.6   0.8  23.5   -0.28    tecnis      NaN  \n",
       "\n",
       "[5 rows x 23 columns]"
      ]
     },
     "execution_count": 2,
     "metadata": {},
     "output_type": "execute_result"
    }
   ],
   "source": [
    "filename=os.path.join(\"data\",\"IOL_data.csv\") # 避免不同操作系统路径书写格式不同\n",
    "df = pd.read_csv(filename)\n",
    "df.head() # 显示数据前5行"
   ]
  },
  {
   "cell_type": "markdown",
   "metadata": {},
   "source": [
    "其中, 包含的字段名为如下:"
   ]
  },
  {
   "cell_type": "code",
   "execution_count": 3,
   "metadata": {
    "scrolled": true
   },
   "outputs": [
    {
     "name": "stdout",
     "output_type": "stream",
     "text": [
      "Index(['name', 'age', 'gender', 'eye', 'op', 'AL', 'K1', 'K2', 'ACD', 'Pen_B',\n",
      "       'Pen_A', 'UBM_B', 'UBM_A', 'ACD_Pen', 'DS', 'DC', 'Axis', 'VA', 'BCVA',\n",
      "       'IOL', 'target', 'IOL_type', 'comment'],\n",
      "      dtype='object')\n"
     ]
    }
   ],
   "source": [
    "print(df.columns)"
   ]
  },
  {
   "cell_type": "markdown",
   "metadata": {},
   "source": [
    "其中, 术前已知的数据字段是:"
   ]
  },
  {
   "cell_type": "code",
   "execution_count": 4,
   "metadata": {},
   "outputs": [],
   "source": [
    "pre_op_columns=['age', 'gender', 'eye', 'op', \n",
    "             'AL', 'K1', 'K2', 'ACD',\n",
    "             'Pen_B','UBM_B', 'ACD_Pen',\n",
    "             'IOL', 'target', 'IOL_type']"
   ]
  },
  {
   "cell_type": "markdown",
   "metadata": {},
   "source": [
    "术后测量得到的数据字段是:"
   ]
  },
  {
   "cell_type": "code",
   "execution_count": 5,
   "metadata": {},
   "outputs": [],
   "source": [
    "post_op_columns=['DS', 'DC', 'Axis', 'VA', 'BCVA']"
   ]
  },
  {
   "cell_type": "markdown",
   "metadata": {},
   "source": [
    "备注字段\"comment\", 对此次计算并无必要, 因此删除"
   ]
  },
  {
   "cell_type": "code",
   "execution_count": 6,
   "metadata": {},
   "outputs": [
    {
     "data": {
      "text/html": [
       "<div>\n",
       "<style scoped>\n",
       "    .dataframe tbody tr th:only-of-type {\n",
       "        vertical-align: middle;\n",
       "    }\n",
       "\n",
       "    .dataframe tbody tr th {\n",
       "        vertical-align: top;\n",
       "    }\n",
       "\n",
       "    .dataframe thead th {\n",
       "        text-align: right;\n",
       "    }\n",
       "</style>\n",
       "<table border=\"1\" class=\"dataframe\">\n",
       "  <thead>\n",
       "    <tr style=\"text-align: right;\">\n",
       "      <th></th>\n",
       "      <th>name</th>\n",
       "      <th>age</th>\n",
       "      <th>gender</th>\n",
       "      <th>eye</th>\n",
       "      <th>op</th>\n",
       "      <th>AL</th>\n",
       "      <th>K1</th>\n",
       "      <th>K2</th>\n",
       "      <th>ACD</th>\n",
       "      <th>Pen_B</th>\n",
       "      <th>...</th>\n",
       "      <th>UBM_A</th>\n",
       "      <th>ACD_Pen</th>\n",
       "      <th>DS</th>\n",
       "      <th>DC</th>\n",
       "      <th>Axis</th>\n",
       "      <th>VA</th>\n",
       "      <th>BCVA</th>\n",
       "      <th>IOL</th>\n",
       "      <th>target</th>\n",
       "      <th>IOL_type</th>\n",
       "    </tr>\n",
       "  </thead>\n",
       "  <tbody>\n",
       "    <tr>\n",
       "      <th>0</th>\n",
       "      <td>潘雅茹</td>\n",
       "      <td>80.0</td>\n",
       "      <td>2</td>\n",
       "      <td>2</td>\n",
       "      <td>3.0</td>\n",
       "      <td>NaN</td>\n",
       "      <td>41.62</td>\n",
       "      <td>43.49</td>\n",
       "      <td>1.96</td>\n",
       "      <td>NaN</td>\n",
       "      <td>...</td>\n",
       "      <td>2.46</td>\n",
       "      <td>NaN</td>\n",
       "      <td>1.00</td>\n",
       "      <td>-2.50</td>\n",
       "      <td>80.0</td>\n",
       "      <td>0.4</td>\n",
       "      <td>0.5</td>\n",
       "      <td>28.5</td>\n",
       "      <td>0.19</td>\n",
       "      <td>tecnis</td>\n",
       "    </tr>\n",
       "    <tr>\n",
       "      <th>1</th>\n",
       "      <td>辛树林</td>\n",
       "      <td>62.0</td>\n",
       "      <td>1</td>\n",
       "      <td>1</td>\n",
       "      <td>1.0</td>\n",
       "      <td>NaN</td>\n",
       "      <td>41.26</td>\n",
       "      <td>41.82</td>\n",
       "      <td>2.92</td>\n",
       "      <td>NaN</td>\n",
       "      <td>...</td>\n",
       "      <td>NaN</td>\n",
       "      <td>NaN</td>\n",
       "      <td>-0.50</td>\n",
       "      <td>NaN</td>\n",
       "      <td>NaN</td>\n",
       "      <td>NaN</td>\n",
       "      <td>1.0</td>\n",
       "      <td>21.0</td>\n",
       "      <td>-0.25</td>\n",
       "      <td>tecnis</td>\n",
       "    </tr>\n",
       "    <tr>\n",
       "      <th>2</th>\n",
       "      <td>尉淑霞</td>\n",
       "      <td>74.0</td>\n",
       "      <td>2</td>\n",
       "      <td>1</td>\n",
       "      <td>1.0</td>\n",
       "      <td>NaN</td>\n",
       "      <td>NaN</td>\n",
       "      <td>NaN</td>\n",
       "      <td>NaN</td>\n",
       "      <td>NaN</td>\n",
       "      <td>...</td>\n",
       "      <td>2.64</td>\n",
       "      <td>NaN</td>\n",
       "      <td>-1.25</td>\n",
       "      <td>-1.50</td>\n",
       "      <td>85.0</td>\n",
       "      <td>NaN</td>\n",
       "      <td>NaN</td>\n",
       "      <td>25.0</td>\n",
       "      <td>-0.16</td>\n",
       "      <td>tecnis</td>\n",
       "    </tr>\n",
       "    <tr>\n",
       "      <th>3</th>\n",
       "      <td>尉淑霞</td>\n",
       "      <td>74.0</td>\n",
       "      <td>2</td>\n",
       "      <td>2</td>\n",
       "      <td>1.0</td>\n",
       "      <td>NaN</td>\n",
       "      <td>NaN</td>\n",
       "      <td>NaN</td>\n",
       "      <td>NaN</td>\n",
       "      <td>NaN</td>\n",
       "      <td>...</td>\n",
       "      <td>3.29</td>\n",
       "      <td>NaN</td>\n",
       "      <td>0.25</td>\n",
       "      <td>-2.00</td>\n",
       "      <td>105.0</td>\n",
       "      <td>NaN</td>\n",
       "      <td>NaN</td>\n",
       "      <td>24.0</td>\n",
       "      <td>-0.21</td>\n",
       "      <td>tecnis</td>\n",
       "    </tr>\n",
       "    <tr>\n",
       "      <th>4</th>\n",
       "      <td>汲爱芝</td>\n",
       "      <td>73.0</td>\n",
       "      <td>2</td>\n",
       "      <td>1</td>\n",
       "      <td>1.0</td>\n",
       "      <td>NaN</td>\n",
       "      <td>45.42</td>\n",
       "      <td>46.23</td>\n",
       "      <td>2.81</td>\n",
       "      <td>NaN</td>\n",
       "      <td>...</td>\n",
       "      <td>2.83</td>\n",
       "      <td>NaN</td>\n",
       "      <td>-0.75</td>\n",
       "      <td>-0.75</td>\n",
       "      <td>90.0</td>\n",
       "      <td>0.6</td>\n",
       "      <td>0.8</td>\n",
       "      <td>23.5</td>\n",
       "      <td>-0.28</td>\n",
       "      <td>tecnis</td>\n",
       "    </tr>\n",
       "  </tbody>\n",
       "</table>\n",
       "<p>5 rows × 22 columns</p>\n",
       "</div>"
      ],
      "text/plain": [
       "  name   age  gender  eye   op  AL     K1     K2   ACD  Pen_B  ...  UBM_A  \\\n",
       "0  潘雅茹  80.0       2    2  3.0 NaN  41.62  43.49  1.96    NaN  ...   2.46   \n",
       "1  辛树林  62.0       1    1  1.0 NaN  41.26  41.82  2.92    NaN  ...    NaN   \n",
       "2  尉淑霞  74.0       2    1  1.0 NaN    NaN    NaN   NaN    NaN  ...   2.64   \n",
       "3  尉淑霞  74.0       2    2  1.0 NaN    NaN    NaN   NaN    NaN  ...   3.29   \n",
       "4  汲爱芝  73.0       2    1  1.0 NaN  45.42  46.23  2.81    NaN  ...   2.83   \n",
       "\n",
       "   ACD_Pen    DS    DC   Axis   VA  BCVA   IOL  target  IOL_type  \n",
       "0      NaN  1.00 -2.50   80.0  0.4   0.5  28.5    0.19    tecnis  \n",
       "1      NaN -0.50   NaN    NaN  NaN   1.0  21.0   -0.25    tecnis  \n",
       "2      NaN -1.25 -1.50   85.0  NaN   NaN  25.0   -0.16    tecnis  \n",
       "3      NaN  0.25 -2.00  105.0  NaN   NaN  24.0   -0.21    tecnis  \n",
       "4      NaN -0.75 -0.75   90.0  0.6   0.8  23.5   -0.28    tecnis  \n",
       "\n",
       "[5 rows x 22 columns]"
      ]
     },
     "execution_count": 6,
     "metadata": {},
     "output_type": "execute_result"
    }
   ],
   "source": [
    "df.drop('comment', axis=1, inplace=True)\n",
    "df.head()"
   ]
  },
  {
   "cell_type": "markdown",
   "metadata": {},
   "source": [
    "空缺的数据当前以NaN表示, 即“Not a Number”, 但NaN并不能加入计算, 所以需要对数据进行清洗.\n",
    "\n",
    "数据清洗方案可以是:\n",
    "* 清除包含NaN的数据行,\n",
    "* 或将NaN替换成合理的数据."
   ]
  },
  {
   "cell_type": "markdown",
   "metadata": {},
   "source": [
    "对于柱镜度数DC和柱镜轴位, NaN数据可以使用0替换之"
   ]
  },
  {
   "cell_type": "code",
   "execution_count": 7,
   "metadata": {},
   "outputs": [
    {
     "data": {
      "text/html": [
       "<div>\n",
       "<style scoped>\n",
       "    .dataframe tbody tr th:only-of-type {\n",
       "        vertical-align: middle;\n",
       "    }\n",
       "\n",
       "    .dataframe tbody tr th {\n",
       "        vertical-align: top;\n",
       "    }\n",
       "\n",
       "    .dataframe thead th {\n",
       "        text-align: right;\n",
       "    }\n",
       "</style>\n",
       "<table border=\"1\" class=\"dataframe\">\n",
       "  <thead>\n",
       "    <tr style=\"text-align: right;\">\n",
       "      <th></th>\n",
       "      <th>name</th>\n",
       "      <th>age</th>\n",
       "      <th>gender</th>\n",
       "      <th>eye</th>\n",
       "      <th>op</th>\n",
       "      <th>AL</th>\n",
       "      <th>K1</th>\n",
       "      <th>K2</th>\n",
       "      <th>ACD</th>\n",
       "      <th>Pen_B</th>\n",
       "      <th>...</th>\n",
       "      <th>UBM_A</th>\n",
       "      <th>ACD_Pen</th>\n",
       "      <th>DS</th>\n",
       "      <th>DC</th>\n",
       "      <th>Axis</th>\n",
       "      <th>VA</th>\n",
       "      <th>BCVA</th>\n",
       "      <th>IOL</th>\n",
       "      <th>target</th>\n",
       "      <th>IOL_type</th>\n",
       "    </tr>\n",
       "  </thead>\n",
       "  <tbody>\n",
       "    <tr>\n",
       "      <th>0</th>\n",
       "      <td>潘雅茹</td>\n",
       "      <td>80.0</td>\n",
       "      <td>2</td>\n",
       "      <td>2</td>\n",
       "      <td>3.0</td>\n",
       "      <td>NaN</td>\n",
       "      <td>41.62</td>\n",
       "      <td>43.49</td>\n",
       "      <td>1.96</td>\n",
       "      <td>NaN</td>\n",
       "      <td>...</td>\n",
       "      <td>2.46</td>\n",
       "      <td>NaN</td>\n",
       "      <td>1.00</td>\n",
       "      <td>-2.50</td>\n",
       "      <td>80.0</td>\n",
       "      <td>0.4</td>\n",
       "      <td>0.5</td>\n",
       "      <td>28.5</td>\n",
       "      <td>0.19</td>\n",
       "      <td>tecnis</td>\n",
       "    </tr>\n",
       "    <tr>\n",
       "      <th>1</th>\n",
       "      <td>辛树林</td>\n",
       "      <td>62.0</td>\n",
       "      <td>1</td>\n",
       "      <td>1</td>\n",
       "      <td>1.0</td>\n",
       "      <td>NaN</td>\n",
       "      <td>41.26</td>\n",
       "      <td>41.82</td>\n",
       "      <td>2.92</td>\n",
       "      <td>NaN</td>\n",
       "      <td>...</td>\n",
       "      <td>NaN</td>\n",
       "      <td>NaN</td>\n",
       "      <td>-0.50</td>\n",
       "      <td>0.00</td>\n",
       "      <td>0.0</td>\n",
       "      <td>NaN</td>\n",
       "      <td>1.0</td>\n",
       "      <td>21.0</td>\n",
       "      <td>-0.25</td>\n",
       "      <td>tecnis</td>\n",
       "    </tr>\n",
       "    <tr>\n",
       "      <th>2</th>\n",
       "      <td>尉淑霞</td>\n",
       "      <td>74.0</td>\n",
       "      <td>2</td>\n",
       "      <td>1</td>\n",
       "      <td>1.0</td>\n",
       "      <td>NaN</td>\n",
       "      <td>NaN</td>\n",
       "      <td>NaN</td>\n",
       "      <td>NaN</td>\n",
       "      <td>NaN</td>\n",
       "      <td>...</td>\n",
       "      <td>2.64</td>\n",
       "      <td>NaN</td>\n",
       "      <td>-1.25</td>\n",
       "      <td>-1.50</td>\n",
       "      <td>85.0</td>\n",
       "      <td>NaN</td>\n",
       "      <td>NaN</td>\n",
       "      <td>25.0</td>\n",
       "      <td>-0.16</td>\n",
       "      <td>tecnis</td>\n",
       "    </tr>\n",
       "    <tr>\n",
       "      <th>3</th>\n",
       "      <td>尉淑霞</td>\n",
       "      <td>74.0</td>\n",
       "      <td>2</td>\n",
       "      <td>2</td>\n",
       "      <td>1.0</td>\n",
       "      <td>NaN</td>\n",
       "      <td>NaN</td>\n",
       "      <td>NaN</td>\n",
       "      <td>NaN</td>\n",
       "      <td>NaN</td>\n",
       "      <td>...</td>\n",
       "      <td>3.29</td>\n",
       "      <td>NaN</td>\n",
       "      <td>0.25</td>\n",
       "      <td>-2.00</td>\n",
       "      <td>105.0</td>\n",
       "      <td>NaN</td>\n",
       "      <td>NaN</td>\n",
       "      <td>24.0</td>\n",
       "      <td>-0.21</td>\n",
       "      <td>tecnis</td>\n",
       "    </tr>\n",
       "    <tr>\n",
       "      <th>4</th>\n",
       "      <td>汲爱芝</td>\n",
       "      <td>73.0</td>\n",
       "      <td>2</td>\n",
       "      <td>1</td>\n",
       "      <td>1.0</td>\n",
       "      <td>NaN</td>\n",
       "      <td>45.42</td>\n",
       "      <td>46.23</td>\n",
       "      <td>2.81</td>\n",
       "      <td>NaN</td>\n",
       "      <td>...</td>\n",
       "      <td>2.83</td>\n",
       "      <td>NaN</td>\n",
       "      <td>-0.75</td>\n",
       "      <td>-0.75</td>\n",
       "      <td>90.0</td>\n",
       "      <td>0.6</td>\n",
       "      <td>0.8</td>\n",
       "      <td>23.5</td>\n",
       "      <td>-0.28</td>\n",
       "      <td>tecnis</td>\n",
       "    </tr>\n",
       "  </tbody>\n",
       "</table>\n",
       "<p>5 rows × 22 columns</p>\n",
       "</div>"
      ],
      "text/plain": [
       "  name   age  gender  eye   op  AL     K1     K2   ACD  Pen_B  ...  UBM_A  \\\n",
       "0  潘雅茹  80.0       2    2  3.0 NaN  41.62  43.49  1.96    NaN  ...   2.46   \n",
       "1  辛树林  62.0       1    1  1.0 NaN  41.26  41.82  2.92    NaN  ...    NaN   \n",
       "2  尉淑霞  74.0       2    1  1.0 NaN    NaN    NaN   NaN    NaN  ...   2.64   \n",
       "3  尉淑霞  74.0       2    2  1.0 NaN    NaN    NaN   NaN    NaN  ...   3.29   \n",
       "4  汲爱芝  73.0       2    1  1.0 NaN  45.42  46.23  2.81    NaN  ...   2.83   \n",
       "\n",
       "   ACD_Pen    DS    DC   Axis   VA  BCVA   IOL  target  IOL_type  \n",
       "0      NaN  1.00 -2.50   80.0  0.4   0.5  28.5    0.19    tecnis  \n",
       "1      NaN -0.50  0.00    0.0  NaN   1.0  21.0   -0.25    tecnis  \n",
       "2      NaN -1.25 -1.50   85.0  NaN   NaN  25.0   -0.16    tecnis  \n",
       "3      NaN  0.25 -2.00  105.0  NaN   NaN  24.0   -0.21    tecnis  \n",
       "4      NaN -0.75 -0.75   90.0  0.6   0.8  23.5   -0.28    tecnis  \n",
       "\n",
       "[5 rows x 22 columns]"
      ]
     },
     "execution_count": 7,
     "metadata": {},
     "output_type": "execute_result"
    }
   ],
   "source": [
    "replace_nan_values={'DC':0, 'Axis':0}\n",
    "df.fillna(value=replace_nan_values, inplace=True)\n",
    "df.head()"
   ]
  },
  {
   "cell_type": "markdown",
   "metadata": {},
   "source": [
    "对于其他关键的字段, 如果缺失数据, 则清除该行"
   ]
  },
  {
   "cell_type": "code",
   "execution_count": 8,
   "metadata": {},
   "outputs": [],
   "source": [
    "key_columns=['age', 'gender', 'eye', 'op', \n",
    "#              'AL',  # 不用眼轴试试吧? \n",
    "             'K1', 'K2', 'ACD', \n",
    "             #'Pen_B','Pen_A',  # 这俩缺太多, \n",
    "             'UBM_B', \n",
    "             #'UBM_A', 'ACD_Pen', \n",
    "             'DS', 'DC', 'Axis', \n",
    "             #'VA', 'BCVA',\n",
    "             'IOL', 'target', 'IOL_type']"
   ]
  },
  {
   "cell_type": "code",
   "execution_count": 9,
   "metadata": {},
   "outputs": [
    {
     "data": {
      "text/html": [
       "<div>\n",
       "<style scoped>\n",
       "    .dataframe tbody tr th:only-of-type {\n",
       "        vertical-align: middle;\n",
       "    }\n",
       "\n",
       "    .dataframe tbody tr th {\n",
       "        vertical-align: top;\n",
       "    }\n",
       "\n",
       "    .dataframe thead th {\n",
       "        text-align: right;\n",
       "    }\n",
       "</style>\n",
       "<table border=\"1\" class=\"dataframe\">\n",
       "  <thead>\n",
       "    <tr style=\"text-align: right;\">\n",
       "      <th></th>\n",
       "      <th>name</th>\n",
       "      <th>age</th>\n",
       "      <th>gender</th>\n",
       "      <th>eye</th>\n",
       "      <th>op</th>\n",
       "      <th>AL</th>\n",
       "      <th>K1</th>\n",
       "      <th>K2</th>\n",
       "      <th>ACD</th>\n",
       "      <th>Pen_B</th>\n",
       "      <th>...</th>\n",
       "      <th>UBM_A</th>\n",
       "      <th>ACD_Pen</th>\n",
       "      <th>DS</th>\n",
       "      <th>DC</th>\n",
       "      <th>Axis</th>\n",
       "      <th>VA</th>\n",
       "      <th>BCVA</th>\n",
       "      <th>IOL</th>\n",
       "      <th>target</th>\n",
       "      <th>IOL_type</th>\n",
       "    </tr>\n",
       "  </thead>\n",
       "  <tbody>\n",
       "    <tr>\n",
       "      <th>0</th>\n",
       "      <td>潘雅茹</td>\n",
       "      <td>80.0</td>\n",
       "      <td>2</td>\n",
       "      <td>2</td>\n",
       "      <td>3.0</td>\n",
       "      <td>NaN</td>\n",
       "      <td>41.62</td>\n",
       "      <td>43.49</td>\n",
       "      <td>1.96</td>\n",
       "      <td>NaN</td>\n",
       "      <td>...</td>\n",
       "      <td>2.46</td>\n",
       "      <td>NaN</td>\n",
       "      <td>1.00</td>\n",
       "      <td>-2.50</td>\n",
       "      <td>80.0</td>\n",
       "      <td>0.4</td>\n",
       "      <td>0.5</td>\n",
       "      <td>28.5</td>\n",
       "      <td>0.19</td>\n",
       "      <td>tecnis</td>\n",
       "    </tr>\n",
       "    <tr>\n",
       "      <th>1</th>\n",
       "      <td>辛树林</td>\n",
       "      <td>62.0</td>\n",
       "      <td>1</td>\n",
       "      <td>1</td>\n",
       "      <td>1.0</td>\n",
       "      <td>NaN</td>\n",
       "      <td>41.26</td>\n",
       "      <td>41.82</td>\n",
       "      <td>2.92</td>\n",
       "      <td>NaN</td>\n",
       "      <td>...</td>\n",
       "      <td>NaN</td>\n",
       "      <td>NaN</td>\n",
       "      <td>-0.50</td>\n",
       "      <td>0.00</td>\n",
       "      <td>0.0</td>\n",
       "      <td>NaN</td>\n",
       "      <td>1.0</td>\n",
       "      <td>21.0</td>\n",
       "      <td>-0.25</td>\n",
       "      <td>tecnis</td>\n",
       "    </tr>\n",
       "    <tr>\n",
       "      <th>4</th>\n",
       "      <td>汲爱芝</td>\n",
       "      <td>73.0</td>\n",
       "      <td>2</td>\n",
       "      <td>1</td>\n",
       "      <td>1.0</td>\n",
       "      <td>NaN</td>\n",
       "      <td>45.42</td>\n",
       "      <td>46.23</td>\n",
       "      <td>2.81</td>\n",
       "      <td>NaN</td>\n",
       "      <td>...</td>\n",
       "      <td>2.83</td>\n",
       "      <td>NaN</td>\n",
       "      <td>-0.75</td>\n",
       "      <td>-0.75</td>\n",
       "      <td>90.0</td>\n",
       "      <td>0.6</td>\n",
       "      <td>0.8</td>\n",
       "      <td>23.5</td>\n",
       "      <td>-0.28</td>\n",
       "      <td>tecnis</td>\n",
       "    </tr>\n",
       "    <tr>\n",
       "      <th>5</th>\n",
       "      <td>曾华霖</td>\n",
       "      <td>76.0</td>\n",
       "      <td>1</td>\n",
       "      <td>1</td>\n",
       "      <td>1.0</td>\n",
       "      <td>NaN</td>\n",
       "      <td>43.66</td>\n",
       "      <td>44.47</td>\n",
       "      <td>2.40</td>\n",
       "      <td>NaN</td>\n",
       "      <td>...</td>\n",
       "      <td>3.68</td>\n",
       "      <td>NaN</td>\n",
       "      <td>0.50</td>\n",
       "      <td>-1.25</td>\n",
       "      <td>105.0</td>\n",
       "      <td>0.8</td>\n",
       "      <td>1.0</td>\n",
       "      <td>20.5</td>\n",
       "      <td>-0.08</td>\n",
       "      <td>tecnis</td>\n",
       "    </tr>\n",
       "    <tr>\n",
       "      <th>6</th>\n",
       "      <td>曾华霖</td>\n",
       "      <td>76.0</td>\n",
       "      <td>1</td>\n",
       "      <td>2</td>\n",
       "      <td>1.0</td>\n",
       "      <td>NaN</td>\n",
       "      <td>43.60</td>\n",
       "      <td>44.47</td>\n",
       "      <td>2.31</td>\n",
       "      <td>NaN</td>\n",
       "      <td>...</td>\n",
       "      <td>3.52</td>\n",
       "      <td>NaN</td>\n",
       "      <td>0.25</td>\n",
       "      <td>-0.75</td>\n",
       "      <td>80.0</td>\n",
       "      <td>1.0</td>\n",
       "      <td>1.0</td>\n",
       "      <td>21.0</td>\n",
       "      <td>-0.05</td>\n",
       "      <td>tecnis</td>\n",
       "    </tr>\n",
       "  </tbody>\n",
       "</table>\n",
       "<p>5 rows × 22 columns</p>\n",
       "</div>"
      ],
      "text/plain": [
       "  name   age  gender  eye   op  AL     K1     K2   ACD  Pen_B  ...  UBM_A  \\\n",
       "0  潘雅茹  80.0       2    2  3.0 NaN  41.62  43.49  1.96    NaN  ...   2.46   \n",
       "1  辛树林  62.0       1    1  1.0 NaN  41.26  41.82  2.92    NaN  ...    NaN   \n",
       "4  汲爱芝  73.0       2    1  1.0 NaN  45.42  46.23  2.81    NaN  ...   2.83   \n",
       "5  曾华霖  76.0       1    1  1.0 NaN  43.66  44.47  2.40    NaN  ...   3.68   \n",
       "6  曾华霖  76.0       1    2  1.0 NaN  43.60  44.47  2.31    NaN  ...   3.52   \n",
       "\n",
       "   ACD_Pen    DS    DC   Axis   VA  BCVA   IOL  target  IOL_type  \n",
       "0      NaN  1.00 -2.50   80.0  0.4   0.5  28.5    0.19    tecnis  \n",
       "1      NaN -0.50  0.00    0.0  NaN   1.0  21.0   -0.25    tecnis  \n",
       "4      NaN -0.75 -0.75   90.0  0.6   0.8  23.5   -0.28    tecnis  \n",
       "5      NaN  0.50 -1.25  105.0  0.8   1.0  20.5   -0.08    tecnis  \n",
       "6      NaN  0.25 -0.75   80.0  1.0   1.0  21.0   -0.05    tecnis  \n",
       "\n",
       "[5 rows x 22 columns]"
      ]
     },
     "execution_count": 9,
     "metadata": {},
     "output_type": "execute_result"
    }
   ],
   "source": [
    "df.dropna(subset=key_columns, inplace=True)\n",
    "df.head()"
   ]
  },
  {
   "cell_type": "markdown",
   "metadata": {},
   "source": [
    "## 数据One-hot重编码\n",
    "\n",
    "对于类别数据, 例如gender, eye, op等, 当前使用数字进行标注, 但这些数字之间并没有运算关系, 例如gender=2, 并不能够理解成gender=1+1, 因此在后续的计算中, 使用数字进行标注可能会引起模型预测的错误, 所以应当对类别数据进行one-hot编码, 例如:\n",
    "\n",
    "|gender|male|female|\n",
    "|:--|:--|:--|\n",
    "|1|1|0|\n",
    "|2|0|1|"
   ]
  },
  {
   "cell_type": "code",
   "execution_count": 10,
   "metadata": {},
   "outputs": [],
   "source": [
    "categorical_columns=['gender', 'eye', 'op'] # 这些是类别形式的字段名\n",
    "for c in categorical_columns:\n",
    "    df[c]=pd.Categorical(df[c]) # 将这些字段设定称pandas的Categorical型数据"
   ]
  },
  {
   "cell_type": "code",
   "execution_count": 11,
   "metadata": {},
   "outputs": [
    {
     "data": {
      "text/html": [
       "<div>\n",
       "<style scoped>\n",
       "    .dataframe tbody tr th:only-of-type {\n",
       "        vertical-align: middle;\n",
       "    }\n",
       "\n",
       "    .dataframe tbody tr th {\n",
       "        vertical-align: top;\n",
       "    }\n",
       "\n",
       "    .dataframe thead th {\n",
       "        text-align: right;\n",
       "    }\n",
       "</style>\n",
       "<table border=\"1\" class=\"dataframe\">\n",
       "  <thead>\n",
       "    <tr style=\"text-align: right;\">\n",
       "      <th></th>\n",
       "      <th>name</th>\n",
       "      <th>age</th>\n",
       "      <th>gender</th>\n",
       "      <th>eye</th>\n",
       "      <th>op</th>\n",
       "      <th>AL</th>\n",
       "      <th>K1</th>\n",
       "      <th>K2</th>\n",
       "      <th>ACD</th>\n",
       "      <th>Pen_B</th>\n",
       "      <th>...</th>\n",
       "      <th>IOL</th>\n",
       "      <th>target</th>\n",
       "      <th>IOL_type</th>\n",
       "      <th>male</th>\n",
       "      <th>female</th>\n",
       "      <th>OD</th>\n",
       "      <th>OS</th>\n",
       "      <th>op1</th>\n",
       "      <th>op2</th>\n",
       "      <th>op3</th>\n",
       "    </tr>\n",
       "  </thead>\n",
       "  <tbody>\n",
       "    <tr>\n",
       "      <th>0</th>\n",
       "      <td>潘雅茹</td>\n",
       "      <td>80.0</td>\n",
       "      <td>2</td>\n",
       "      <td>2</td>\n",
       "      <td>3.0</td>\n",
       "      <td>NaN</td>\n",
       "      <td>41.62</td>\n",
       "      <td>43.49</td>\n",
       "      <td>1.96</td>\n",
       "      <td>NaN</td>\n",
       "      <td>...</td>\n",
       "      <td>28.5</td>\n",
       "      <td>0.19</td>\n",
       "      <td>tecnis</td>\n",
       "      <td>0</td>\n",
       "      <td>1</td>\n",
       "      <td>0</td>\n",
       "      <td>1</td>\n",
       "      <td>0</td>\n",
       "      <td>0</td>\n",
       "      <td>1</td>\n",
       "    </tr>\n",
       "    <tr>\n",
       "      <th>1</th>\n",
       "      <td>辛树林</td>\n",
       "      <td>62.0</td>\n",
       "      <td>1</td>\n",
       "      <td>1</td>\n",
       "      <td>1.0</td>\n",
       "      <td>NaN</td>\n",
       "      <td>41.26</td>\n",
       "      <td>41.82</td>\n",
       "      <td>2.92</td>\n",
       "      <td>NaN</td>\n",
       "      <td>...</td>\n",
       "      <td>21.0</td>\n",
       "      <td>-0.25</td>\n",
       "      <td>tecnis</td>\n",
       "      <td>1</td>\n",
       "      <td>0</td>\n",
       "      <td>1</td>\n",
       "      <td>0</td>\n",
       "      <td>1</td>\n",
       "      <td>0</td>\n",
       "      <td>0</td>\n",
       "    </tr>\n",
       "    <tr>\n",
       "      <th>4</th>\n",
       "      <td>汲爱芝</td>\n",
       "      <td>73.0</td>\n",
       "      <td>2</td>\n",
       "      <td>1</td>\n",
       "      <td>1.0</td>\n",
       "      <td>NaN</td>\n",
       "      <td>45.42</td>\n",
       "      <td>46.23</td>\n",
       "      <td>2.81</td>\n",
       "      <td>NaN</td>\n",
       "      <td>...</td>\n",
       "      <td>23.5</td>\n",
       "      <td>-0.28</td>\n",
       "      <td>tecnis</td>\n",
       "      <td>0</td>\n",
       "      <td>1</td>\n",
       "      <td>1</td>\n",
       "      <td>0</td>\n",
       "      <td>1</td>\n",
       "      <td>0</td>\n",
       "      <td>0</td>\n",
       "    </tr>\n",
       "    <tr>\n",
       "      <th>5</th>\n",
       "      <td>曾华霖</td>\n",
       "      <td>76.0</td>\n",
       "      <td>1</td>\n",
       "      <td>1</td>\n",
       "      <td>1.0</td>\n",
       "      <td>NaN</td>\n",
       "      <td>43.66</td>\n",
       "      <td>44.47</td>\n",
       "      <td>2.40</td>\n",
       "      <td>NaN</td>\n",
       "      <td>...</td>\n",
       "      <td>20.5</td>\n",
       "      <td>-0.08</td>\n",
       "      <td>tecnis</td>\n",
       "      <td>1</td>\n",
       "      <td>0</td>\n",
       "      <td>1</td>\n",
       "      <td>0</td>\n",
       "      <td>1</td>\n",
       "      <td>0</td>\n",
       "      <td>0</td>\n",
       "    </tr>\n",
       "    <tr>\n",
       "      <th>6</th>\n",
       "      <td>曾华霖</td>\n",
       "      <td>76.0</td>\n",
       "      <td>1</td>\n",
       "      <td>2</td>\n",
       "      <td>1.0</td>\n",
       "      <td>NaN</td>\n",
       "      <td>43.60</td>\n",
       "      <td>44.47</td>\n",
       "      <td>2.31</td>\n",
       "      <td>NaN</td>\n",
       "      <td>...</td>\n",
       "      <td>21.0</td>\n",
       "      <td>-0.05</td>\n",
       "      <td>tecnis</td>\n",
       "      <td>1</td>\n",
       "      <td>0</td>\n",
       "      <td>0</td>\n",
       "      <td>1</td>\n",
       "      <td>1</td>\n",
       "      <td>0</td>\n",
       "      <td>0</td>\n",
       "    </tr>\n",
       "  </tbody>\n",
       "</table>\n",
       "<p>5 rows × 29 columns</p>\n",
       "</div>"
      ],
      "text/plain": [
       "  name   age gender eye   op  AL     K1     K2   ACD  Pen_B  ...   IOL  \\\n",
       "0  潘雅茹  80.0      2   2  3.0 NaN  41.62  43.49  1.96    NaN  ...  28.5   \n",
       "1  辛树林  62.0      1   1  1.0 NaN  41.26  41.82  2.92    NaN  ...  21.0   \n",
       "4  汲爱芝  73.0      2   1  1.0 NaN  45.42  46.23  2.81    NaN  ...  23.5   \n",
       "5  曾华霖  76.0      1   1  1.0 NaN  43.66  44.47  2.40    NaN  ...  20.5   \n",
       "6  曾华霖  76.0      1   2  1.0 NaN  43.60  44.47  2.31    NaN  ...  21.0   \n",
       "\n",
       "   target  IOL_type  male  female  OD  OS  op1  op2  op3  \n",
       "0    0.19    tecnis     0       1   0   1    0    0    1  \n",
       "1   -0.25    tecnis     1       0   1   0    1    0    0  \n",
       "4   -0.28    tecnis     0       1   1   0    1    0    0  \n",
       "5   -0.08    tecnis     1       0   1   0    1    0    0  \n",
       "6   -0.05    tecnis     1       0   0   1    1    0    0  \n",
       "\n",
       "[5 rows x 29 columns]"
      ]
     },
     "execution_count": 11,
     "metadata": {},
     "output_type": "execute_result"
    }
   ],
   "source": [
    "categorical_dict={'gender':[\"male\",\"female\"], \n",
    "                  'eye':['OD','OS'], \n",
    "                  'op':['op1', \"op2\",'op3','op4']}\n",
    "for k, v in categorical_dict.items():\n",
    "    dfDummies = pd.get_dummies(df[k])\n",
    "    dfDummies.columns=v[:len(dfDummies.columns)] # 有可能有4种手术方式, 但因为数据清洗, 只剩下1种或者2种\n",
    "    df = pd.concat([df, dfDummies], axis=1)\n",
    "df.head()"
   ]
  },
  {
   "cell_type": "markdown",
   "metadata": {},
   "source": [
    "## 利用现有IOL公式计算\n",
    "\n",
    "直接用机器学习猜出所有的公式可能需要很多数据, 所以不妨先使用现有公式进行初步的运算, 然后再用机器学习来拟合残差, 可能效果会更好\n",
    "\n",
    "似乎也没啥作用, 反正先放在这吧"
   ]
  },
  {
   "cell_type": "code",
   "execution_count": 12,
   "metadata": {},
   "outputs": [],
   "source": [
    "from compute_IOL import SRK_T, HOFFER_Q, Haigis # 这是以前写过的人工晶体计算公式, 存放再compute_IOL.py中, 此处直接导入"
   ]
  },
  {
   "cell_type": "code",
   "execution_count": 13,
   "metadata": {},
   "outputs": [],
   "source": [
    "# A_const_dict={\"hoya\":118.4,} # 此处根据不同的IOL_type来设定A常数\n",
    "# IOL_calc_func=SRK_T"
   ]
  },
  {
   "cell_type": "code",
   "execution_count": 14,
   "metadata": {},
   "outputs": [],
   "source": [
    "# df['SRK_T']=df.apply(lambda row: \n",
    "#                         IOL_calc_func(row['AL'], \n",
    "#                               (row[\"K1\"]+row[\"K2\"])/2, \n",
    "#                               A_const_dict[row['IOL_type']], \n",
    "#                               row[\"target\"]), \n",
    "#                         axis=1)\n",
    "# df['Hoffer_Q']=df.apply(lambda row:\n",
    "#                        HOFFER_Q(row['AL'],\n",
    "#                                (row[\"K1\"]+row[\"K2\"])/2,\n",
    "#                                row['ACD'],\n",
    "#                                row['target']), \n",
    "#                         axis=1)\n",
    "# df['Haigis']=df.apply(lambda row: # R,AC,L,A,Rx\n",
    "#                        Haigis( (0.3375/((row[\"K1\"]+row[\"K2\"])/2))*1000,\n",
    "#                                row['ACD'],\n",
    "#                                row['AL'],\n",
    "#                                A_const_dict[row['IOL_type']], \n",
    "#                                row['target']), \n",
    "#                         axis=1)"
   ]
  },
  {
   "cell_type": "markdown",
   "metadata": {},
   "source": [
    "## 数据分组\n",
    "\n",
    "将清理后数据分成: X, y, 用X来估计y, 其中又要分成训练集和测试集. \n",
    "\n",
    "\n"
   ]
  },
  {
   "cell_type": "code",
   "execution_count": 15,
   "metadata": {},
   "outputs": [],
   "source": [
    "X_columns=['age', 'male','female', 'OD','OS', 'op1', \n",
    "#              'AL', \n",
    "           'K1', 'K2', 'ACD',\n",
    "#              'Pen_B',\n",
    "             'UBM_B', \n",
    "#            'ACD_Pen',\n",
    "             'IOL', 'target', \n",
    "#            'SRK_T', 'Hoffer_Q','Haigis'\n",
    "          ]\n",
    "# X_columns=['SRK_T', 'Hoffer_Q','Haigis'] # 如果用几个不同公式算出来结果, 是否可以预测出术后的屈光状态呢?\n",
    "X=df[X_columns]"
   ]
  },
  {
   "cell_type": "code",
   "execution_count": 16,
   "metadata": {},
   "outputs": [
    {
     "data": {
      "text/html": [
       "<div>\n",
       "<style scoped>\n",
       "    .dataframe tbody tr th:only-of-type {\n",
       "        vertical-align: middle;\n",
       "    }\n",
       "\n",
       "    .dataframe tbody tr th {\n",
       "        vertical-align: top;\n",
       "    }\n",
       "\n",
       "    .dataframe thead th {\n",
       "        text-align: right;\n",
       "    }\n",
       "</style>\n",
       "<table border=\"1\" class=\"dataframe\">\n",
       "  <thead>\n",
       "    <tr style=\"text-align: right;\">\n",
       "      <th></th>\n",
       "      <th>age</th>\n",
       "      <th>male</th>\n",
       "      <th>female</th>\n",
       "      <th>OD</th>\n",
       "      <th>OS</th>\n",
       "      <th>op1</th>\n",
       "      <th>K1</th>\n",
       "      <th>K2</th>\n",
       "      <th>ACD</th>\n",
       "      <th>UBM_B</th>\n",
       "      <th>IOL</th>\n",
       "      <th>target</th>\n",
       "    </tr>\n",
       "  </thead>\n",
       "  <tbody>\n",
       "    <tr>\n",
       "      <th>0</th>\n",
       "      <td>80.0</td>\n",
       "      <td>0</td>\n",
       "      <td>1</td>\n",
       "      <td>0</td>\n",
       "      <td>1</td>\n",
       "      <td>0</td>\n",
       "      <td>41.62</td>\n",
       "      <td>43.49</td>\n",
       "      <td>1.96</td>\n",
       "      <td>1.23</td>\n",
       "      <td>28.5</td>\n",
       "      <td>0.19</td>\n",
       "    </tr>\n",
       "    <tr>\n",
       "      <th>1</th>\n",
       "      <td>62.0</td>\n",
       "      <td>1</td>\n",
       "      <td>0</td>\n",
       "      <td>1</td>\n",
       "      <td>0</td>\n",
       "      <td>1</td>\n",
       "      <td>41.26</td>\n",
       "      <td>41.82</td>\n",
       "      <td>2.92</td>\n",
       "      <td>2.27</td>\n",
       "      <td>21.0</td>\n",
       "      <td>-0.25</td>\n",
       "    </tr>\n",
       "    <tr>\n",
       "      <th>4</th>\n",
       "      <td>73.0</td>\n",
       "      <td>0</td>\n",
       "      <td>1</td>\n",
       "      <td>1</td>\n",
       "      <td>0</td>\n",
       "      <td>1</td>\n",
       "      <td>45.42</td>\n",
       "      <td>46.23</td>\n",
       "      <td>2.81</td>\n",
       "      <td>2.15</td>\n",
       "      <td>23.5</td>\n",
       "      <td>-0.28</td>\n",
       "    </tr>\n",
       "    <tr>\n",
       "      <th>5</th>\n",
       "      <td>76.0</td>\n",
       "      <td>1</td>\n",
       "      <td>0</td>\n",
       "      <td>1</td>\n",
       "      <td>0</td>\n",
       "      <td>1</td>\n",
       "      <td>43.66</td>\n",
       "      <td>44.47</td>\n",
       "      <td>2.40</td>\n",
       "      <td>2.03</td>\n",
       "      <td>20.5</td>\n",
       "      <td>-0.08</td>\n",
       "    </tr>\n",
       "    <tr>\n",
       "      <th>6</th>\n",
       "      <td>76.0</td>\n",
       "      <td>1</td>\n",
       "      <td>0</td>\n",
       "      <td>0</td>\n",
       "      <td>1</td>\n",
       "      <td>1</td>\n",
       "      <td>43.60</td>\n",
       "      <td>44.47</td>\n",
       "      <td>2.31</td>\n",
       "      <td>1.99</td>\n",
       "      <td>21.0</td>\n",
       "      <td>-0.05</td>\n",
       "    </tr>\n",
       "  </tbody>\n",
       "</table>\n",
       "</div>"
      ],
      "text/plain": [
       "    age  male  female  OD  OS  op1     K1     K2   ACD  UBM_B   IOL  target\n",
       "0  80.0     0       1   0   1    0  41.62  43.49  1.96   1.23  28.5    0.19\n",
       "1  62.0     1       0   1   0    1  41.26  41.82  2.92   2.27  21.0   -0.25\n",
       "4  73.0     0       1   1   0    1  45.42  46.23  2.81   2.15  23.5   -0.28\n",
       "5  76.0     1       0   1   0    1  43.66  44.47  2.40   2.03  20.5   -0.08\n",
       "6  76.0     1       0   0   1    1  43.60  44.47  2.31   1.99  21.0   -0.05"
      ]
     },
     "execution_count": 16,
     "metadata": {},
     "output_type": "execute_result"
    }
   ],
   "source": [
    "X.head()"
   ]
  },
  {
   "cell_type": "code",
   "execution_count": 17,
   "metadata": {},
   "outputs": [],
   "source": [
    "y_columns=['DS', 'DC']\n",
    "y=df['DS']+df['DC']/2"
   ]
  },
  {
   "cell_type": "code",
   "execution_count": 18,
   "metadata": {},
   "outputs": [],
   "source": [
    "random_state=0\n",
    "X_train, X_test, y_train, y_test = train_test_split(\n",
    "                                X, y, test_size=0.2, random_state=random_state) # 总数据中有20%的数据作为测试集"
   ]
  },
  {
   "cell_type": "code",
   "execution_count": 19,
   "metadata": {
    "scrolled": true
   },
   "outputs": [
    {
     "name": "stdout",
     "output_type": "stream",
     "text": [
      "训练集中, X_train具有45行数据, y_train具有45行数据\n",
      "测试集中, X_test具有12行数据, y_test具有12行数据\n"
     ]
    }
   ],
   "source": [
    "print(\"训练集中, X_train具有{}行数据, y_train具有{}行数据\".format(len(X_train),len(y_train)))\n",
    "print(\"测试集中, X_test具有{}行数据, y_test具有{}行数据\".format(len(X_test),len(y_test)))"
   ]
  },
  {
   "cell_type": "markdown",
   "metadata": {},
   "source": [
    "## 机器学习\n"
   ]
  },
  {
   "cell_type": "markdown",
   "metadata": {},
   "source": [
    "### 随机森林拟合\n",
    "\n",
    "随机森林反正是设置最简单的模型了. 拿这个试试先.\n",
    "\n",
    "使用"
   ]
  },
  {
   "cell_type": "code",
   "execution_count": 20,
   "metadata": {
    "scrolled": true
   },
   "outputs": [
    {
     "name": "stdout",
     "output_type": "stream",
     "text": [
      "使用以下变量作为X:\n",
      "['age', 'male', 'female', 'OD', 'OS', 'op1', 'K1', 'K2', 'ACD', 'UBM_B', 'IOL', 'target']\n",
      "对以下变量进行预测y:\n",
      "['DS', 'DC']\n"
     ]
    }
   ],
   "source": [
    "print(\"使用以下变量作为X:\\n{}\".format(X_columns))\n",
    "print(\"对以下变量进行预测y:\\n{}\".format(y_columns))"
   ]
  },
  {
   "cell_type": "code",
   "execution_count": 21,
   "metadata": {},
   "outputs": [],
   "source": [
    "# 导入必要的工具包\n",
    "from sklearn.model_selection import cross_val_score, GridSearchCV\n",
    "from sklearn.ensemble import RandomForestRegressor\n",
    "from sklearn.preprocessing import MinMaxScaler\n",
    "from sklearn.preprocessing import StandardScaler\n",
    "from sklearn import metrics\n",
    "import matplotlib.pyplot as plt\n",
    "import numpy as np\n",
    "%matplotlib inline"
   ]
  },
  {
   "cell_type": "code",
   "execution_count": 22,
   "metadata": {},
   "outputs": [],
   "source": [
    "# Feature Scaling\n",
    "# 将输入的数据进行缩放, 归一化, 这一步并非必须, 但是可能提高模型的训练效果. \n",
    "# sc = StandardScaler()\n",
    "# X_train = sc.fit_transform(X_train)\n",
    "# X_test = sc.transform(X_test)"
   ]
  },
  {
   "cell_type": "code",
   "execution_count": 23,
   "metadata": {
    "scrolled": true
   },
   "outputs": [],
   "source": [
    "# 定义一个函数, 用来评估模型, 输出各种评估数据和绘图\n",
    "def evaluate_model(regressor, X_train, y_train, X_test, y_test, y_pred):\n",
    "    print('对预测结果的评估')\n",
    "    print('Mean Absolute Error:', metrics.mean_absolute_error(y_test, y_pred))\n",
    "    print('Mean Squared Error:', metrics.mean_squared_error(y_test, y_pred))\n",
    "    print('Root Mean Squared Error:', np.sqrt(metrics.mean_squared_error(y_test, y_pred)))\n",
    "    print('R-squared score (training): {:.3f}'\n",
    "         .format(regressor.score(X_train, y_train)))\n",
    "    print('R-squared score (test): {:.3f}'\n",
    "         .format(regressor.score(X_test, y_test)))\n",
    "    fig, ax = plt.subplots()\n",
    "    ax.plot(np.linspace(-2,1,20),np.linspace(-2,1,20),'-')\n",
    "    ax.plot(y_test, y_pred, 'o')"
   ]
  },
  {
   "cell_type": "code",
   "execution_count": 24,
   "metadata": {},
   "outputs": [
    {
     "name": "stdout",
     "output_type": "stream",
     "text": [
      "对预测结果的评估\n",
      "Mean Absolute Error: 0.25927083333333334\n",
      "Mean Squared Error: 0.137699609375\n",
      "Root Mean Squared Error: 0.37107897996922434\n",
      "R-squared score (training): 0.842\n",
      "R-squared score (test): -0.083\n"
     ]
    },
    {
     "data": {
      "image/png": "[encoded data removed]",
      "text/plain": [
       "<Figure size 432x288 with 1 Axes>"
      ]
     },
     "metadata": {
      "needs_background": "light"
     },
     "output_type": "display_data"
    }
   ],
   "source": [
    "# 使用RandomForestRegressor建立一个拟合器\n",
    "reg1 = RandomForestRegressor(random_state=random_state)\n",
    "# 代入训练集进行训练\n",
    "reg1.fit(X_train, y_train)\n",
    "# 用训练好的模型对测试集进行训练\n",
    "y_pred = reg1.predict(X_test)\n",
    "# 评估结果\n",
    "evaluate_model(reg1,X_train, y_train, X_test, y_test, y_pred)"
   ]
  },
  {
   "cell_type": "markdown",
   "metadata": {},
   "source": [
    "### 调参"
   ]
  },
  {
   "cell_type": "markdown",
   "metadata": {},
   "source": [
    "看来用默认参数还是不够好啊, 训练集的评分远远高于测试集的话, 提示过拟合了. \n",
    "\n",
    "虽然想躲, 但是还是调参炼丹吧!\n",
    "\n",
    "参考这篇炼丹教程 https://towardsdatascience.com/hyperparameter-tuning-the-random-forest-in-python-using-scikit-learn-28d2aa77dd74"
   ]
  },
  {
   "cell_type": "markdown",
   "metadata": {},
   "source": [
    "#### 首先看看当前默认的参数\n"
   ]
  },
  {
   "cell_type": "code",
   "execution_count": 25,
   "metadata": {},
   "outputs": [
    {
     "name": "stdout",
     "output_type": "stream",
     "text": [
      "Parameters currently in use:\n",
      "\n",
      "{'bootstrap': True,\n",
      " 'ccp_alpha': 0.0,\n",
      " 'criterion': 'mse',\n",
      " 'max_depth': None,\n",
      " 'max_features': 'auto',\n",
      " 'max_leaf_nodes': None,\n",
      " 'max_samples': None,\n",
      " 'min_impurity_decrease': 0.0,\n",
      " 'min_impurity_split': None,\n",
      " 'min_samples_leaf': 1,\n",
      " 'min_samples_split': 2,\n",
      " 'min_weight_fraction_leaf': 0.0,\n",
      " 'n_estimators': 100,\n",
      " 'n_jobs': None,\n",
      " 'oob_score': False,\n",
      " 'random_state': 0,\n",
      " 'verbose': 0,\n",
      " 'warm_start': False}\n"
     ]
    }
   ],
   "source": [
    "from pprint import pprint\n",
    "print('Parameters currently in use:\\n')\n",
    "pprint(reg1.get_params())"
   ]
  },
  {
   "cell_type": "markdown",
   "metadata": {},
   "source": [
    "#### 随机搜索法\n",
    "\n",
    "在一定范围内随机搜索, 比较出最优的参数"
   ]
  },
  {
   "cell_type": "code",
   "execution_count": 26,
   "metadata": {},
   "outputs": [],
   "source": [
    "from sklearn.model_selection import RandomizedSearchCV\n",
    "# Number of trees in random forest\n",
    "n_estimators = [int(x) for x in np.linspace(start = 200, stop = 2000, num = 10)]\n",
    "# Number of features to consider at every split\n",
    "max_features = ['auto', 'sqrt']\n",
    "# Maximum number of levels in tree\n",
    "max_depth = [int(x) for x in np.linspace(10, 110, num = 11)]\n",
    "max_depth.append(None)\n",
    "# Minimum number of samples required to split a node\n",
    "min_samples_split = [2, 5, 10]\n",
    "# Minimum number of samples required at each leaf node\n",
    "min_samples_leaf = [1, 2, 4]\n",
    "# Method of selecting samples for training each tree\n",
    "bootstrap = [True, False]\n",
    "# Create the random grid\n",
    "random_grid = {'n_estimators': n_estimators,\n",
    "               'max_features': max_features,\n",
    "               'max_depth': max_depth,\n",
    "               'min_samples_split': min_samples_split,\n",
    "               'min_samples_leaf': min_samples_leaf,\n",
    "               'bootstrap': bootstrap}"
   ]
  },
  {
   "cell_type": "code",
   "execution_count": 27,
   "metadata": {},
   "outputs": [
    {
     "name": "stdout",
     "output_type": "stream",
     "text": [
      "Fitting 3 folds for each of 100 candidates, totalling 300 fits\n"
     ]
    },
    {
     "name": "stderr",
     "output_type": "stream",
     "text": [
      "[Parallel(n_jobs=-1)]: Using backend LokyBackend with 4 concurrent workers.\n",
      "[Parallel(n_jobs=-1)]: Done  33 tasks      | elapsed:   39.6s\n",
      "[Parallel(n_jobs=-1)]: Done 154 tasks      | elapsed:  2.8min\n",
      "[Parallel(n_jobs=-1)]: Done 300 out of 300 | elapsed:  5.7min finished\n"
     ]
    },
    {
     "data": {
      "text/plain": [
       "RandomizedSearchCV(cv=3, error_score=nan,\n",
       "                   estimator=RandomForestRegressor(bootstrap=True,\n",
       "                                                   ccp_alpha=0.0,\n",
       "                                                   criterion='mse',\n",
       "                                                   max_depth=None,\n",
       "                                                   max_features='auto',\n",
       "                                                   max_leaf_nodes=None,\n",
       "                                                   max_samples=None,\n",
       "                                                   min_impurity_decrease=0.0,\n",
       "                                                   min_impurity_split=None,\n",
       "                                                   min_samples_leaf=1,\n",
       "                                                   min_samples_split=2,\n",
       "                                                   min_weight_fraction_leaf=0.0,\n",
       "                                                   n_estimators=100,\n",
       "                                                   n_jobs=None, oob_score=Fals...\n",
       "                   param_distributions={'bootstrap': [True, False],\n",
       "                                        'max_depth': [10, 20, 30, 40, 50, 60,\n",
       "                                                      70, 80, 90, 100, 110,\n",
       "                                                      None],\n",
       "                                        'max_features': ['auto', 'sqrt'],\n",
       "                                        'min_samples_leaf': [1, 2, 4],\n",
       "                                        'min_samples_split': [2, 5, 10],\n",
       "                                        'n_estimators': [200, 400, 600, 800,\n",
       "                                                         1000, 1200, 1400, 1600,\n",
       "                                                         1800, 2000]},\n",
       "                   pre_dispatch='2*n_jobs', random_state=42, refit=True,\n",
       "                   return_train_score=False, scoring=None, verbose=2)"
      ]
     },
     "execution_count": 27,
     "metadata": {},
     "output_type": "execute_result"
    }
   ],
   "source": [
    "# Use the random grid to search for best hyperparameters\n",
    "# First create the base model to tune\n",
    "rf = RandomForestRegressor()\n",
    "# Random search of parameters, using 3 fold cross validation, \n",
    "# search across 100 different combinations, and use all available cores\n",
    "rf_random = RandomizedSearchCV(estimator = rf, \n",
    "                               param_distributions = random_grid, \n",
    "                               n_iter = 100, cv = 3, verbose=2, random_state=42, n_jobs = -1)\n",
    "# Fit the random search model\n",
    "rf_random.fit(X_train, y_train)"
   ]
  },
  {
   "cell_type": "markdown",
   "metadata": {},
   "source": [
    "#### 看看随机搜索的最优结果"
   ]
  },
  {
   "cell_type": "code",
   "execution_count": 28,
   "metadata": {},
   "outputs": [
    {
     "data": {
      "text/plain": [
       "{'n_estimators': 800,\n",
       " 'min_samples_split': 2,\n",
       " 'min_samples_leaf': 4,\n",
       " 'max_features': 'sqrt',\n",
       " 'max_depth': 90,\n",
       " 'bootstrap': True}"
      ]
     },
     "execution_count": 28,
     "metadata": {},
     "output_type": "execute_result"
    }
   ],
   "source": [
    "rf_random.best_params_"
   ]
  },
  {
   "cell_type": "markdown",
   "metadata": {},
   "source": [
    "#### 评估这个最优解"
   ]
  },
  {
   "cell_type": "code",
   "execution_count": 29,
   "metadata": {},
   "outputs": [
    {
     "name": "stdout",
     "output_type": "stream",
     "text": [
      "对预测结果的评估\n",
      "Mean Absolute Error: 0.25927083333333334\n",
      "Mean Squared Error: 0.137699609375\n",
      "Root Mean Squared Error: 0.37107897996922434\n",
      "R-squared score (training): 0.398\n",
      "R-squared score (test): -0.024\n"
     ]
    },
    {
     "data": {
      "image/png": "[encoded data removed]",
      "text/plain": [
       "<Figure size 432x288 with 1 Axes>"
      ]
     },
     "metadata": {
      "needs_background": "light"
     },
     "output_type": "display_data"
    }
   ],
   "source": [
    "best_random = rf_random.best_estimator_\n",
    "evaluate_model(best_random,X_train, y_train, X_test, y_test, y_pred)"
   ]
  },
  {
   "cell_type": "markdown",
   "metadata": {},
   "source": [
    "#### 网格搜索\n",
    "\n",
    "在随机搜索大致找到最优解之后(虽然仍然很渣, 但跑完流程吧), 可以在上述范围附近进行更为细致的网格搜索"
   ]
  },
  {
   "cell_type": "code",
   "execution_count": 30,
   "metadata": {},
   "outputs": [
    {
     "data": {
      "text/plain": [
       "{'n_estimators': 800,\n",
       " 'min_samples_split': 2,\n",
       " 'min_samples_leaf': 4,\n",
       " 'max_features': 'sqrt',\n",
       " 'max_depth': 90,\n",
       " 'bootstrap': True}"
      ]
     },
     "execution_count": 30,
     "metadata": {},
     "output_type": "execute_result"
    }
   ],
   "source": [
    "rf_random.best_params_"
   ]
  },
  {
   "cell_type": "code",
   "execution_count": 31,
   "metadata": {},
   "outputs": [],
   "source": [
    "from sklearn.model_selection import GridSearchCV\n",
    "# Create the parameter grid based on the results of random search \n",
    "param_grid = {\n",
    "    'bootstrap': [True],\n",
    "    'max_depth': [80, 90, 100,110 ],\n",
    "    'max_features': [2, 3],\n",
    "    'min_samples_leaf': [3, 4, 5],\n",
    "    'min_samples_split': [1,2,3],\n",
    "    'n_estimators': [600, 800, 1000]\n",
    "}\n",
    "# Create a based model\n",
    "rf = RandomForestRegressor()\n",
    "# Instantiate the grid search model\n",
    "grid_search = GridSearchCV(estimator = rf, param_grid = param_grid, \n",
    "                          cv = 3, n_jobs = -1, verbose = 2)"
   ]
  },
  {
   "cell_type": "code",
   "execution_count": 32,
   "metadata": {},
   "outputs": [
    {
     "name": "stdout",
     "output_type": "stream",
     "text": [
      "Fitting 3 folds for each of 216 candidates, totalling 648 fits\n"
     ]
    },
    {
     "name": "stderr",
     "output_type": "stream",
     "text": [
      "[Parallel(n_jobs=-1)]: Using backend LokyBackend with 4 concurrent workers.\n",
      "[Parallel(n_jobs=-1)]: Done  33 tasks      | elapsed:   28.7s\n",
      "[Parallel(n_jobs=-1)]: Done 154 tasks      | elapsed:  2.0min\n",
      "[Parallel(n_jobs=-1)]: Done 357 tasks      | elapsed:  4.3min\n",
      "[Parallel(n_jobs=-1)]: Done 640 tasks      | elapsed:  7.7min\n",
      "[Parallel(n_jobs=-1)]: Done 648 out of 648 | elapsed:  7.8min finished\n"
     ]
    },
    {
     "data": {
      "text/plain": [
       "{'bootstrap': True,\n",
       " 'max_depth': 80,\n",
       " 'max_features': 2,\n",
       " 'min_samples_leaf': 4,\n",
       " 'min_samples_split': 3,\n",
       " 'n_estimators': 1000}"
      ]
     },
     "execution_count": 32,
     "metadata": {},
     "output_type": "execute_result"
    }
   ],
   "source": [
    "# Fit the grid search to the data\n",
    "grid_search.fit(X_train, y_train)\n",
    "grid_search.best_params_\n"
   ]
  },
  {
   "cell_type": "code",
   "execution_count": 33,
   "metadata": {},
   "outputs": [
    {
     "name": "stdout",
     "output_type": "stream",
     "text": [
      "对预测结果的评估\n",
      "Mean Absolute Error: 0.25927083333333334\n",
      "Mean Squared Error: 0.137699609375\n",
      "Root Mean Squared Error: 0.37107897996922434\n",
      "R-squared score (training): 0.364\n",
      "R-squared score (test): -0.044\n"
     ]
    },
    {
     "data": {
      "image/png": "[encoded data removed]",
      "text/plain": [
       "<Figure size 432x288 with 1 Axes>"
      ]
     },
     "metadata": {
      "needs_background": "light"
     },
     "output_type": "display_data"
    }
   ],
   "source": [
    "best_grid = grid_search.best_estimator_\n",
    "evaluate_model(best_grid,X_train, y_train, X_test, y_test, y_pred)"
   ]
  },
  {
   "cell_type": "code",
   "execution_count": null,
   "metadata": {},
   "outputs": [],
   "source": []
  }
 ],
 "metadata": {
  "kernelspec": {
   "display_name": "Python 3",
   "language": "python",
   "name": "python3"
  },
  "language_info": {
   "codemirror_mode": {
    "name": "ipython",
    "version": 3
   },
   "file_extension": ".py",
   "mimetype": "text/x-python",
   "name": "python",
   "nbconvert_exporter": "python",
   "pygments_lexer": "ipython3",
   "version": "3.6.10"
  }
 },
 "nbformat": 4,
 "nbformat_minor": 4
}
