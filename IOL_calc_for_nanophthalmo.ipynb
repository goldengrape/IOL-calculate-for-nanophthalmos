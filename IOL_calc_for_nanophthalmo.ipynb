{
  "cells": [
    {
      "metadata": {
        "collapsed": true
      },
      "cell_type": "markdown",
      "source": "# 小眼球患者的IOL度数计算"
    },
    {
      "metadata": {},
      "cell_type": "markdown",
      "source": "## 数据读取和清洗"
    },
    {
      "metadata": {
        "trusted": true
      },
      "cell_type": "code",
      "source": "# 导入必要的工具包\nimport pandas as pd\nimport numpy as np\nimport os\nfrom sklearn.model_selection import train_test_split\n",
      "execution_count": 1,
      "outputs": []
    },
    {
      "metadata": {},
      "cell_type": "markdown",
      "source": "读取数据记录, 数据放置在`data\\IOL_data.csv`文件中, 由于csv文件相对于excel文件更容易处理一些, 所以在excel中将原始数据另存为csv文件. 为方便操作, 将原来的中文字段名手工修改成英文字段名."
    },
    {
      "metadata": {
        "trusted": true
      },
      "cell_type": "code",
      "source": "filename=os.path.join(\"data\",\"IOL_data.csv\") # 避免不同操作系统路径书写格式不同\ndf = pd.read_csv(filename)\ndf.head() # 显示数据前5行",
      "execution_count": 2,
      "outputs": [
        {
          "output_type": "execute_result",
          "execution_count": 2,
          "data": {
            "text/html": "<div>\n<style scoped>\n    .dataframe tbody tr th:only-of-type {\n        vertical-align: middle;\n    }\n\n    .dataframe tbody tr th {\n        vertical-align: top;\n    }\n\n    .dataframe thead th {\n        text-align: right;\n    }\n</style>\n<table border=\"1\" class=\"dataframe\">\n  <thead>\n    <tr style=\"text-align: right;\">\n      <th></th>\n      <th>name</th>\n      <th>age</th>\n      <th>gender</th>\n      <th>eye</th>\n      <th>op</th>\n      <th>AL</th>\n      <th>K1</th>\n      <th>K2</th>\n      <th>ACD</th>\n      <th>Pen_B</th>\n      <th>...</th>\n      <th>ACD_Pen</th>\n      <th>DS</th>\n      <th>DC</th>\n      <th>Axis</th>\n      <th>VA</th>\n      <th>BCVA</th>\n      <th>IOL</th>\n      <th>target</th>\n      <th>IOL_type</th>\n      <th>comment</th>\n    </tr>\n  </thead>\n  <tbody>\n    <tr>\n      <th>0</th>\n      <td>潘雅茹</td>\n      <td>80.0</td>\n      <td>2</td>\n      <td>2</td>\n      <td>3.0</td>\n      <td>NaN</td>\n      <td>41.62</td>\n      <td>43.49</td>\n      <td>1.96</td>\n      <td>NaN</td>\n      <td>...</td>\n      <td>NaN</td>\n      <td>1.00</td>\n      <td>-2.50</td>\n      <td>80.0</td>\n      <td>0.4</td>\n      <td>0.5</td>\n      <td>28.5</td>\n      <td>0.19</td>\n      <td>tecnis</td>\n      <td>NaN</td>\n    </tr>\n    <tr>\n      <th>1</th>\n      <td>辛树林</td>\n      <td>62.0</td>\n      <td>1</td>\n      <td>1</td>\n      <td>1.0</td>\n      <td>NaN</td>\n      <td>41.26</td>\n      <td>41.82</td>\n      <td>2.92</td>\n      <td>NaN</td>\n      <td>...</td>\n      <td>NaN</td>\n      <td>-0.50</td>\n      <td>NaN</td>\n      <td>NaN</td>\n      <td>NaN</td>\n      <td>1.0</td>\n      <td>21.0</td>\n      <td>-0.25</td>\n      <td>tecnis</td>\n      <td>NaN</td>\n    </tr>\n    <tr>\n      <th>2</th>\n      <td>尉淑霞</td>\n      <td>74.0</td>\n      <td>2</td>\n      <td>1</td>\n      <td>1.0</td>\n      <td>NaN</td>\n      <td>NaN</td>\n      <td>NaN</td>\n      <td>NaN</td>\n      <td>NaN</td>\n      <td>...</td>\n      <td>NaN</td>\n      <td>-1.25</td>\n      <td>-1.50</td>\n      <td>85.0</td>\n      <td>NaN</td>\n      <td>NaN</td>\n      <td>25.0</td>\n      <td>-0.16</td>\n      <td>tecnis</td>\n      <td>NaN</td>\n    </tr>\n    <tr>\n      <th>3</th>\n      <td>尉淑霞</td>\n      <td>74.0</td>\n      <td>2</td>\n      <td>2</td>\n      <td>1.0</td>\n      <td>NaN</td>\n      <td>NaN</td>\n      <td>NaN</td>\n      <td>NaN</td>\n      <td>NaN</td>\n      <td>...</td>\n      <td>NaN</td>\n      <td>0.25</td>\n      <td>-2.00</td>\n      <td>105.0</td>\n      <td>NaN</td>\n      <td>NaN</td>\n      <td>24.0</td>\n      <td>-0.21</td>\n      <td>tecnis</td>\n      <td>颞侧视岛</td>\n    </tr>\n    <tr>\n      <th>4</th>\n      <td>汲爱芝</td>\n      <td>73.0</td>\n      <td>2</td>\n      <td>1</td>\n      <td>1.0</td>\n      <td>NaN</td>\n      <td>45.42</td>\n      <td>46.23</td>\n      <td>2.81</td>\n      <td>NaN</td>\n      <td>...</td>\n      <td>NaN</td>\n      <td>-0.75</td>\n      <td>-0.75</td>\n      <td>90.0</td>\n      <td>0.6</td>\n      <td>0.8</td>\n      <td>23.5</td>\n      <td>-0.28</td>\n      <td>tecnis</td>\n      <td>NaN</td>\n    </tr>\n  </tbody>\n</table>\n<p>5 rows × 23 columns</p>\n</div>",
            "text/plain": "  name   age  gender  eye   op  AL     K1     K2   ACD  Pen_B   ...     \\\n0  潘雅茹  80.0       2    2  3.0 NaN  41.62  43.49  1.96    NaN   ...      \n1  辛树林  62.0       1    1  1.0 NaN  41.26  41.82  2.92    NaN   ...      \n2  尉淑霞  74.0       2    1  1.0 NaN    NaN    NaN   NaN    NaN   ...      \n3  尉淑霞  74.0       2    2  1.0 NaN    NaN    NaN   NaN    NaN   ...      \n4  汲爱芝  73.0       2    1  1.0 NaN  45.42  46.23  2.81    NaN   ...      \n\n   ACD_Pen    DS    DC   Axis   VA  BCVA   IOL  target  IOL_type  comment  \n0      NaN  1.00 -2.50   80.0  0.4   0.5  28.5    0.19    tecnis      NaN  \n1      NaN -0.50   NaN    NaN  NaN   1.0  21.0   -0.25    tecnis      NaN  \n2      NaN -1.25 -1.50   85.0  NaN   NaN  25.0   -0.16    tecnis      NaN  \n3      NaN  0.25 -2.00  105.0  NaN   NaN  24.0   -0.21    tecnis     颞侧视岛  \n4      NaN -0.75 -0.75   90.0  0.6   0.8  23.5   -0.28    tecnis      NaN  \n\n[5 rows x 23 columns]"
          },
          "metadata": {}
        }
      ]
    },
    {
      "metadata": {},
      "cell_type": "markdown",
      "source": "其中, 包含的字段名为如下:"
    },
    {
      "metadata": {
        "trusted": true,
        "scrolled": true
      },
      "cell_type": "code",
      "source": "print(df.columns)",
      "execution_count": 3,
      "outputs": [
        {
          "output_type": "stream",
          "text": "Index(['name', 'age', 'gender', 'eye', 'op', 'AL', 'K1', 'K2', 'ACD', 'Pen_B',\n       'Pen_A', 'UBM_B', 'UBM_A', 'ACD_Pen', 'DS', 'DC', 'Axis', 'VA', 'BCVA',\n       'IOL', 'target', 'IOL_type', 'comment'],\n      dtype='object')\n",
          "name": "stdout"
        }
      ]
    },
    {
      "metadata": {},
      "cell_type": "markdown",
      "source": "其中, 术前已知的数据字段是:"
    },
    {
      "metadata": {
        "trusted": true
      },
      "cell_type": "code",
      "source": "pre_op_columns=['age', 'gender', 'eye', 'op', \n             'AL', 'K1', 'K2', 'ACD',\n             'Pen_B','UBM_B', 'ACD_Pen',\n             'IOL', 'target', 'IOL_type']",
      "execution_count": 4,
      "outputs": []
    },
    {
      "metadata": {},
      "cell_type": "markdown",
      "source": "术后测量得到的数据字段是:"
    },
    {
      "metadata": {
        "trusted": true
      },
      "cell_type": "code",
      "source": "post_op_columns=['DS', 'DC', 'Axis', 'VA', 'BCVA']",
      "execution_count": 5,
      "outputs": []
    },
    {
      "metadata": {},
      "cell_type": "markdown",
      "source": "备注字段\"comment\", 对此次计算并无必要, 因此删除"
    },
    {
      "metadata": {
        "trusted": true
      },
      "cell_type": "code",
      "source": "df.drop('comment', axis=1, inplace=True)\ndf.head()",
      "execution_count": 6,
      "outputs": [
        {
          "output_type": "execute_result",
          "execution_count": 6,
          "data": {
            "text/html": "<div>\n<style scoped>\n    .dataframe tbody tr th:only-of-type {\n        vertical-align: middle;\n    }\n\n    .dataframe tbody tr th {\n        vertical-align: top;\n    }\n\n    .dataframe thead th {\n        text-align: right;\n    }\n</style>\n<table border=\"1\" class=\"dataframe\">\n  <thead>\n    <tr style=\"text-align: right;\">\n      <th></th>\n      <th>name</th>\n      <th>age</th>\n      <th>gender</th>\n      <th>eye</th>\n      <th>op</th>\n      <th>AL</th>\n      <th>K1</th>\n      <th>K2</th>\n      <th>ACD</th>\n      <th>Pen_B</th>\n      <th>...</th>\n      <th>UBM_A</th>\n      <th>ACD_Pen</th>\n      <th>DS</th>\n      <th>DC</th>\n      <th>Axis</th>\n      <th>VA</th>\n      <th>BCVA</th>\n      <th>IOL</th>\n      <th>target</th>\n      <th>IOL_type</th>\n    </tr>\n  </thead>\n  <tbody>\n    <tr>\n      <th>0</th>\n      <td>潘雅茹</td>\n      <td>80.0</td>\n      <td>2</td>\n      <td>2</td>\n      <td>3.0</td>\n      <td>NaN</td>\n      <td>41.62</td>\n      <td>43.49</td>\n      <td>1.96</td>\n      <td>NaN</td>\n      <td>...</td>\n      <td>2.46</td>\n      <td>NaN</td>\n      <td>1.00</td>\n      <td>-2.50</td>\n      <td>80.0</td>\n      <td>0.4</td>\n      <td>0.5</td>\n      <td>28.5</td>\n      <td>0.19</td>\n      <td>tecnis</td>\n    </tr>\n    <tr>\n      <th>1</th>\n      <td>辛树林</td>\n      <td>62.0</td>\n      <td>1</td>\n      <td>1</td>\n      <td>1.0</td>\n      <td>NaN</td>\n      <td>41.26</td>\n      <td>41.82</td>\n      <td>2.92</td>\n      <td>NaN</td>\n      <td>...</td>\n      <td>NaN</td>\n      <td>NaN</td>\n      <td>-0.50</td>\n      <td>NaN</td>\n      <td>NaN</td>\n      <td>NaN</td>\n      <td>1.0</td>\n      <td>21.0</td>\n      <td>-0.25</td>\n      <td>tecnis</td>\n    </tr>\n    <tr>\n      <th>2</th>\n      <td>尉淑霞</td>\n      <td>74.0</td>\n      <td>2</td>\n      <td>1</td>\n      <td>1.0</td>\n      <td>NaN</td>\n      <td>NaN</td>\n      <td>NaN</td>\n      <td>NaN</td>\n      <td>NaN</td>\n      <td>...</td>\n      <td>2.64</td>\n      <td>NaN</td>\n      <td>-1.25</td>\n      <td>-1.50</td>\n      <td>85.0</td>\n      <td>NaN</td>\n      <td>NaN</td>\n      <td>25.0</td>\n      <td>-0.16</td>\n      <td>tecnis</td>\n    </tr>\n    <tr>\n      <th>3</th>\n      <td>尉淑霞</td>\n      <td>74.0</td>\n      <td>2</td>\n      <td>2</td>\n      <td>1.0</td>\n      <td>NaN</td>\n      <td>NaN</td>\n      <td>NaN</td>\n      <td>NaN</td>\n      <td>NaN</td>\n      <td>...</td>\n      <td>3.29</td>\n      <td>NaN</td>\n      <td>0.25</td>\n      <td>-2.00</td>\n      <td>105.0</td>\n      <td>NaN</td>\n      <td>NaN</td>\n      <td>24.0</td>\n      <td>-0.21</td>\n      <td>tecnis</td>\n    </tr>\n    <tr>\n      <th>4</th>\n      <td>汲爱芝</td>\n      <td>73.0</td>\n      <td>2</td>\n      <td>1</td>\n      <td>1.0</td>\n      <td>NaN</td>\n      <td>45.42</td>\n      <td>46.23</td>\n      <td>2.81</td>\n      <td>NaN</td>\n      <td>...</td>\n      <td>2.83</td>\n      <td>NaN</td>\n      <td>-0.75</td>\n      <td>-0.75</td>\n      <td>90.0</td>\n      <td>0.6</td>\n      <td>0.8</td>\n      <td>23.5</td>\n      <td>-0.28</td>\n      <td>tecnis</td>\n    </tr>\n  </tbody>\n</table>\n<p>5 rows × 22 columns</p>\n</div>",
            "text/plain": "  name   age  gender  eye   op  AL     K1     K2   ACD  Pen_B    ...     \\\n0  潘雅茹  80.0       2    2  3.0 NaN  41.62  43.49  1.96    NaN    ...      \n1  辛树林  62.0       1    1  1.0 NaN  41.26  41.82  2.92    NaN    ...      \n2  尉淑霞  74.0       2    1  1.0 NaN    NaN    NaN   NaN    NaN    ...      \n3  尉淑霞  74.0       2    2  1.0 NaN    NaN    NaN   NaN    NaN    ...      \n4  汲爱芝  73.0       2    1  1.0 NaN  45.42  46.23  2.81    NaN    ...      \n\n   UBM_A  ACD_Pen    DS    DC   Axis   VA  BCVA   IOL  target  IOL_type  \n0   2.46      NaN  1.00 -2.50   80.0  0.4   0.5  28.5    0.19    tecnis  \n1    NaN      NaN -0.50   NaN    NaN  NaN   1.0  21.0   -0.25    tecnis  \n2   2.64      NaN -1.25 -1.50   85.0  NaN   NaN  25.0   -0.16    tecnis  \n3   3.29      NaN  0.25 -2.00  105.0  NaN   NaN  24.0   -0.21    tecnis  \n4   2.83      NaN -0.75 -0.75   90.0  0.6   0.8  23.5   -0.28    tecnis  \n\n[5 rows x 22 columns]"
          },
          "metadata": {}
        }
      ]
    },
    {
      "metadata": {},
      "cell_type": "markdown",
      "source": "空缺的数据当前以NaN表示, 即“Not a Number”, 但NaN并不能加入计算, 所以需要对数据进行清洗.\n\n数据清洗方案可以是:\n* 清除包含NaN的数据行,\n* 或将NaN替换成合理的数据."
    },
    {
      "metadata": {},
      "cell_type": "markdown",
      "source": "对于柱镜度数DC和柱镜轴位, NaN数据可以使用0替换之"
    },
    {
      "metadata": {
        "trusted": true
      },
      "cell_type": "code",
      "source": "replace_nan_values={'DC':0, 'Axis':0}\ndf.fillna(value=replace_nan_values, inplace=True)\ndf.head()",
      "execution_count": 7,
      "outputs": [
        {
          "output_type": "execute_result",
          "execution_count": 7,
          "data": {
            "text/html": "<div>\n<style scoped>\n    .dataframe tbody tr th:only-of-type {\n        vertical-align: middle;\n    }\n\n    .dataframe tbody tr th {\n        vertical-align: top;\n    }\n\n    .dataframe thead th {\n        text-align: right;\n    }\n</style>\n<table border=\"1\" class=\"dataframe\">\n  <thead>\n    <tr style=\"text-align: right;\">\n      <th></th>\n      <th>name</th>\n      <th>age</th>\n      <th>gender</th>\n      <th>eye</th>\n      <th>op</th>\n      <th>AL</th>\n      <th>K1</th>\n      <th>K2</th>\n      <th>ACD</th>\n      <th>Pen_B</th>\n      <th>...</th>\n      <th>UBM_A</th>\n      <th>ACD_Pen</th>\n      <th>DS</th>\n      <th>DC</th>\n      <th>Axis</th>\n      <th>VA</th>\n      <th>BCVA</th>\n      <th>IOL</th>\n      <th>target</th>\n      <th>IOL_type</th>\n    </tr>\n  </thead>\n  <tbody>\n    <tr>\n      <th>0</th>\n      <td>潘雅茹</td>\n      <td>80.0</td>\n      <td>2</td>\n      <td>2</td>\n      <td>3.0</td>\n      <td>NaN</td>\n      <td>41.62</td>\n      <td>43.49</td>\n      <td>1.96</td>\n      <td>NaN</td>\n      <td>...</td>\n      <td>2.46</td>\n      <td>NaN</td>\n      <td>1.00</td>\n      <td>-2.50</td>\n      <td>80.0</td>\n      <td>0.4</td>\n      <td>0.5</td>\n      <td>28.5</td>\n      <td>0.19</td>\n      <td>tecnis</td>\n    </tr>\n    <tr>\n      <th>1</th>\n      <td>辛树林</td>\n      <td>62.0</td>\n      <td>1</td>\n      <td>1</td>\n      <td>1.0</td>\n      <td>NaN</td>\n      <td>41.26</td>\n      <td>41.82</td>\n      <td>2.92</td>\n      <td>NaN</td>\n      <td>...</td>\n      <td>NaN</td>\n      <td>NaN</td>\n      <td>-0.50</td>\n      <td>0.00</td>\n      <td>0.0</td>\n      <td>NaN</td>\n      <td>1.0</td>\n      <td>21.0</td>\n      <td>-0.25</td>\n      <td>tecnis</td>\n    </tr>\n    <tr>\n      <th>2</th>\n      <td>尉淑霞</td>\n      <td>74.0</td>\n      <td>2</td>\n      <td>1</td>\n      <td>1.0</td>\n      <td>NaN</td>\n      <td>NaN</td>\n      <td>NaN</td>\n      <td>NaN</td>\n      <td>NaN</td>\n      <td>...</td>\n      <td>2.64</td>\n      <td>NaN</td>\n      <td>-1.25</td>\n      <td>-1.50</td>\n      <td>85.0</td>\n      <td>NaN</td>\n      <td>NaN</td>\n      <td>25.0</td>\n      <td>-0.16</td>\n      <td>tecnis</td>\n    </tr>\n    <tr>\n      <th>3</th>\n      <td>尉淑霞</td>\n      <td>74.0</td>\n      <td>2</td>\n      <td>2</td>\n      <td>1.0</td>\n      <td>NaN</td>\n      <td>NaN</td>\n      <td>NaN</td>\n      <td>NaN</td>\n      <td>NaN</td>\n      <td>...</td>\n      <td>3.29</td>\n      <td>NaN</td>\n      <td>0.25</td>\n      <td>-2.00</td>\n      <td>105.0</td>\n      <td>NaN</td>\n      <td>NaN</td>\n      <td>24.0</td>\n      <td>-0.21</td>\n      <td>tecnis</td>\n    </tr>\n    <tr>\n      <th>4</th>\n      <td>汲爱芝</td>\n      <td>73.0</td>\n      <td>2</td>\n      <td>1</td>\n      <td>1.0</td>\n      <td>NaN</td>\n      <td>45.42</td>\n      <td>46.23</td>\n      <td>2.81</td>\n      <td>NaN</td>\n      <td>...</td>\n      <td>2.83</td>\n      <td>NaN</td>\n      <td>-0.75</td>\n      <td>-0.75</td>\n      <td>90.0</td>\n      <td>0.6</td>\n      <td>0.8</td>\n      <td>23.5</td>\n      <td>-0.28</td>\n      <td>tecnis</td>\n    </tr>\n  </tbody>\n</table>\n<p>5 rows × 22 columns</p>\n</div>",
            "text/plain": "  name   age  gender  eye   op  AL     K1     K2   ACD  Pen_B    ...     \\\n0  潘雅茹  80.0       2    2  3.0 NaN  41.62  43.49  1.96    NaN    ...      \n1  辛树林  62.0       1    1  1.0 NaN  41.26  41.82  2.92    NaN    ...      \n2  尉淑霞  74.0       2    1  1.0 NaN    NaN    NaN   NaN    NaN    ...      \n3  尉淑霞  74.0       2    2  1.0 NaN    NaN    NaN   NaN    NaN    ...      \n4  汲爱芝  73.0       2    1  1.0 NaN  45.42  46.23  2.81    NaN    ...      \n\n   UBM_A  ACD_Pen    DS    DC   Axis   VA  BCVA   IOL  target  IOL_type  \n0   2.46      NaN  1.00 -2.50   80.0  0.4   0.5  28.5    0.19    tecnis  \n1    NaN      NaN -0.50  0.00    0.0  NaN   1.0  21.0   -0.25    tecnis  \n2   2.64      NaN -1.25 -1.50   85.0  NaN   NaN  25.0   -0.16    tecnis  \n3   3.29      NaN  0.25 -2.00  105.0  NaN   NaN  24.0   -0.21    tecnis  \n4   2.83      NaN -0.75 -0.75   90.0  0.6   0.8  23.5   -0.28    tecnis  \n\n[5 rows x 22 columns]"
          },
          "metadata": {}
        }
      ]
    },
    {
      "metadata": {},
      "cell_type": "markdown",
      "source": "对于其他关键的字段, 如果缺失数据, 则清除该行"
    },
    {
      "metadata": {
        "trusted": true
      },
      "cell_type": "code",
      "source": "key_columns=['age', 'gender', 'eye', 'op', \n             'AL', 'K1', 'K2', 'ACD', \n             #'Pen_B','Pen_A', \n             'UBM_B', \n             #'UBM_A', 'ACD_Pen', \n             'DS', 'DC', 'Axis', \n             #'VA', 'BCVA',\n             'IOL', 'target', 'IOL_type']",
      "execution_count": 8,
      "outputs": []
    },
    {
      "metadata": {
        "trusted": true
      },
      "cell_type": "code",
      "source": "df.dropna(subset=key_columns, inplace=True)\ndf.head()",
      "execution_count": 9,
      "outputs": [
        {
          "output_type": "execute_result",
          "execution_count": 9,
          "data": {
            "text/html": "<div>\n<style scoped>\n    .dataframe tbody tr th:only-of-type {\n        vertical-align: middle;\n    }\n\n    .dataframe tbody tr th {\n        vertical-align: top;\n    }\n\n    .dataframe thead th {\n        text-align: right;\n    }\n</style>\n<table border=\"1\" class=\"dataframe\">\n  <thead>\n    <tr style=\"text-align: right;\">\n      <th></th>\n      <th>name</th>\n      <th>age</th>\n      <th>gender</th>\n      <th>eye</th>\n      <th>op</th>\n      <th>AL</th>\n      <th>K1</th>\n      <th>K2</th>\n      <th>ACD</th>\n      <th>Pen_B</th>\n      <th>...</th>\n      <th>UBM_A</th>\n      <th>ACD_Pen</th>\n      <th>DS</th>\n      <th>DC</th>\n      <th>Axis</th>\n      <th>VA</th>\n      <th>BCVA</th>\n      <th>IOL</th>\n      <th>target</th>\n      <th>IOL_type</th>\n    </tr>\n  </thead>\n  <tbody>\n    <tr>\n      <th>31</th>\n      <td>孟宪华</td>\n      <td>78.0</td>\n      <td>2</td>\n      <td>1</td>\n      <td>1.0</td>\n      <td>23.88</td>\n      <td>43.72</td>\n      <td>44.70</td>\n      <td>2.43</td>\n      <td>NaN</td>\n      <td>...</td>\n      <td>NaN</td>\n      <td>NaN</td>\n      <td>1.00</td>\n      <td>-1.75</td>\n      <td>115.0</td>\n      <td>0.60</td>\n      <td>0.8</td>\n      <td>19.5</td>\n      <td>-0.18</td>\n      <td>hoya</td>\n    </tr>\n    <tr>\n      <th>32</th>\n      <td>孟宪华</td>\n      <td>78.0</td>\n      <td>2</td>\n      <td>2</td>\n      <td>1.0</td>\n      <td>23.53</td>\n      <td>43.60</td>\n      <td>44.18</td>\n      <td>3.83</td>\n      <td>NaN</td>\n      <td>...</td>\n      <td>NaN</td>\n      <td>NaN</td>\n      <td>-0.50</td>\n      <td>-0.50</td>\n      <td>95.0</td>\n      <td>0.15</td>\n      <td>0.3</td>\n      <td>20.0</td>\n      <td>-0.10</td>\n      <td>hoya</td>\n    </tr>\n    <tr>\n      <th>33</th>\n      <td>刘宝琴</td>\n      <td>71.0</td>\n      <td>2</td>\n      <td>1</td>\n      <td>1.0</td>\n      <td>23.35</td>\n      <td>43.55</td>\n      <td>44.58</td>\n      <td>2.70</td>\n      <td>NaN</td>\n      <td>...</td>\n      <td>3.68</td>\n      <td>NaN</td>\n      <td>0.00</td>\n      <td>-1.00</td>\n      <td>5.0</td>\n      <td>0.80</td>\n      <td>0.8</td>\n      <td>21.0</td>\n      <td>-0.10</td>\n      <td>hoya</td>\n    </tr>\n    <tr>\n      <th>34</th>\n      <td>刘宝琴</td>\n      <td>71.0</td>\n      <td>2</td>\n      <td>2</td>\n      <td>1.0</td>\n      <td>23.30</td>\n      <td>44.06</td>\n      <td>45.61</td>\n      <td>2.99</td>\n      <td>NaN</td>\n      <td>...</td>\n      <td>3.69</td>\n      <td>NaN</td>\n      <td>-0.75</td>\n      <td>-0.50</td>\n      <td>168.0</td>\n      <td>0.60</td>\n      <td>0.8</td>\n      <td>21.0</td>\n      <td>-0.15</td>\n      <td>hoya</td>\n    </tr>\n    <tr>\n      <th>35</th>\n      <td>李恩莲</td>\n      <td>64.0</td>\n      <td>2</td>\n      <td>1</td>\n      <td>1.0</td>\n      <td>21.82</td>\n      <td>43.16</td>\n      <td>44.35</td>\n      <td>2.06</td>\n      <td>NaN</td>\n      <td>...</td>\n      <td>3.26</td>\n      <td>NaN</td>\n      <td>-1.00</td>\n      <td>-0.75</td>\n      <td>75.0</td>\n      <td>NaN</td>\n      <td>0.6</td>\n      <td>27.0</td>\n      <td>0.11</td>\n      <td>hoya</td>\n    </tr>\n  </tbody>\n</table>\n<p>5 rows × 22 columns</p>\n</div>",
            "text/plain": "   name   age  gender  eye   op     AL     K1     K2   ACD  Pen_B    ...     \\\n31  孟宪华  78.0       2    1  1.0  23.88  43.72  44.70  2.43    NaN    ...      \n32  孟宪华  78.0       2    2  1.0  23.53  43.60  44.18  3.83    NaN    ...      \n33  刘宝琴  71.0       2    1  1.0  23.35  43.55  44.58  2.70    NaN    ...      \n34  刘宝琴  71.0       2    2  1.0  23.30  44.06  45.61  2.99    NaN    ...      \n35  李恩莲  64.0       2    1  1.0  21.82  43.16  44.35  2.06    NaN    ...      \n\n    UBM_A  ACD_Pen    DS    DC   Axis    VA  BCVA   IOL  target  IOL_type  \n31    NaN      NaN  1.00 -1.75  115.0  0.60   0.8  19.5   -0.18      hoya  \n32    NaN      NaN -0.50 -0.50   95.0  0.15   0.3  20.0   -0.10      hoya  \n33   3.68      NaN  0.00 -1.00    5.0  0.80   0.8  21.0   -0.10      hoya  \n34   3.69      NaN -0.75 -0.50  168.0  0.60   0.8  21.0   -0.15      hoya  \n35   3.26      NaN -1.00 -0.75   75.0   NaN   0.6  27.0    0.11      hoya  \n\n[5 rows x 22 columns]"
          },
          "metadata": {}
        }
      ]
    },
    {
      "metadata": {},
      "cell_type": "markdown",
      "source": "## 数据One-hot重编码\n\n对于类别数据, 例如gender, eye, op等, 当前使用数字进行标注, 但这些数字之间并没有运算关系, 例如gender=2, 并不能够理解成gender=1+1, 因此在后续的计算中, 使用数字进行标注可能会引起模型预测的错误, 所以应当对类别数据进行one-hot编码, 例如:\n\n|gender|male|female|\n|:--|:--|:--|\n|1|1|0|\n|2|0|1|"
    },
    {
      "metadata": {
        "trusted": true
      },
      "cell_type": "code",
      "source": "categorical_columns=['gender', 'eye', 'op'] # 这些是类别形式的字段名\nfor c in categorical_columns:\n    df[c]=pd.Categorical(df[c]) # 将这些字段设定称pandas的Categorical型数据",
      "execution_count": 10,
      "outputs": []
    },
    {
      "metadata": {
        "trusted": true
      },
      "cell_type": "code",
      "source": "categorical_dict={'gender':[\"male\",\"female\"], \n                  'eye':['OD','OS'], \n                  'op':['op1', \"op2\",'op3','op4']}\nfor k, v in categorical_dict.items():\n    dfDummies = pd.get_dummies(df[k])\n    dfDummies.columns=v[:len(dfDummies.columns)] # 有可能有4种手术方式, 但因为数据清洗, 只剩下1种或者2种\n    df = pd.concat([df, dfDummies], axis=1)\ndf.head()",
      "execution_count": 11,
      "outputs": [
        {
          "output_type": "execute_result",
          "execution_count": 11,
          "data": {
            "text/html": "<div>\n<style scoped>\n    .dataframe tbody tr th:only-of-type {\n        vertical-align: middle;\n    }\n\n    .dataframe tbody tr th {\n        vertical-align: top;\n    }\n\n    .dataframe thead th {\n        text-align: right;\n    }\n</style>\n<table border=\"1\" class=\"dataframe\">\n  <thead>\n    <tr style=\"text-align: right;\">\n      <th></th>\n      <th>name</th>\n      <th>age</th>\n      <th>gender</th>\n      <th>eye</th>\n      <th>op</th>\n      <th>AL</th>\n      <th>K1</th>\n      <th>K2</th>\n      <th>ACD</th>\n      <th>Pen_B</th>\n      <th>...</th>\n      <th>VA</th>\n      <th>BCVA</th>\n      <th>IOL</th>\n      <th>target</th>\n      <th>IOL_type</th>\n      <th>male</th>\n      <th>female</th>\n      <th>OD</th>\n      <th>OS</th>\n      <th>op1</th>\n    </tr>\n  </thead>\n  <tbody>\n    <tr>\n      <th>31</th>\n      <td>孟宪华</td>\n      <td>78.0</td>\n      <td>2</td>\n      <td>1</td>\n      <td>1.0</td>\n      <td>23.88</td>\n      <td>43.72</td>\n      <td>44.70</td>\n      <td>2.43</td>\n      <td>NaN</td>\n      <td>...</td>\n      <td>0.60</td>\n      <td>0.8</td>\n      <td>19.5</td>\n      <td>-0.18</td>\n      <td>hoya</td>\n      <td>0</td>\n      <td>1</td>\n      <td>1</td>\n      <td>0</td>\n      <td>1</td>\n    </tr>\n    <tr>\n      <th>32</th>\n      <td>孟宪华</td>\n      <td>78.0</td>\n      <td>2</td>\n      <td>2</td>\n      <td>1.0</td>\n      <td>23.53</td>\n      <td>43.60</td>\n      <td>44.18</td>\n      <td>3.83</td>\n      <td>NaN</td>\n      <td>...</td>\n      <td>0.15</td>\n      <td>0.3</td>\n      <td>20.0</td>\n      <td>-0.10</td>\n      <td>hoya</td>\n      <td>0</td>\n      <td>1</td>\n      <td>0</td>\n      <td>1</td>\n      <td>1</td>\n    </tr>\n    <tr>\n      <th>33</th>\n      <td>刘宝琴</td>\n      <td>71.0</td>\n      <td>2</td>\n      <td>1</td>\n      <td>1.0</td>\n      <td>23.35</td>\n      <td>43.55</td>\n      <td>44.58</td>\n      <td>2.70</td>\n      <td>NaN</td>\n      <td>...</td>\n      <td>0.80</td>\n      <td>0.8</td>\n      <td>21.0</td>\n      <td>-0.10</td>\n      <td>hoya</td>\n      <td>0</td>\n      <td>1</td>\n      <td>1</td>\n      <td>0</td>\n      <td>1</td>\n    </tr>\n    <tr>\n      <th>34</th>\n      <td>刘宝琴</td>\n      <td>71.0</td>\n      <td>2</td>\n      <td>2</td>\n      <td>1.0</td>\n      <td>23.30</td>\n      <td>44.06</td>\n      <td>45.61</td>\n      <td>2.99</td>\n      <td>NaN</td>\n      <td>...</td>\n      <td>0.60</td>\n      <td>0.8</td>\n      <td>21.0</td>\n      <td>-0.15</td>\n      <td>hoya</td>\n      <td>0</td>\n      <td>1</td>\n      <td>0</td>\n      <td>1</td>\n      <td>1</td>\n    </tr>\n    <tr>\n      <th>35</th>\n      <td>李恩莲</td>\n      <td>64.0</td>\n      <td>2</td>\n      <td>1</td>\n      <td>1.0</td>\n      <td>21.82</td>\n      <td>43.16</td>\n      <td>44.35</td>\n      <td>2.06</td>\n      <td>NaN</td>\n      <td>...</td>\n      <td>NaN</td>\n      <td>0.6</td>\n      <td>27.0</td>\n      <td>0.11</td>\n      <td>hoya</td>\n      <td>0</td>\n      <td>1</td>\n      <td>1</td>\n      <td>0</td>\n      <td>1</td>\n    </tr>\n  </tbody>\n</table>\n<p>5 rows × 27 columns</p>\n</div>",
            "text/plain": "   name   age gender eye   op     AL     K1     K2   ACD  Pen_B ...     VA  \\\n31  孟宪华  78.0      2   1  1.0  23.88  43.72  44.70  2.43    NaN ...   0.60   \n32  孟宪华  78.0      2   2  1.0  23.53  43.60  44.18  3.83    NaN ...   0.15   \n33  刘宝琴  71.0      2   1  1.0  23.35  43.55  44.58  2.70    NaN ...   0.80   \n34  刘宝琴  71.0      2   2  1.0  23.30  44.06  45.61  2.99    NaN ...   0.60   \n35  李恩莲  64.0      2   1  1.0  21.82  43.16  44.35  2.06    NaN ...    NaN   \n\n    BCVA   IOL  target  IOL_type  male  female  OD  OS  op1  \n31   0.8  19.5   -0.18      hoya     0       1   1   0    1  \n32   0.3  20.0   -0.10      hoya     0       1   0   1    1  \n33   0.8  21.0   -0.10      hoya     0       1   1   0    1  \n34   0.8  21.0   -0.15      hoya     0       1   0   1    1  \n35   0.6  27.0    0.11      hoya     0       1   1   0    1  \n\n[5 rows x 27 columns]"
          },
          "metadata": {}
        }
      ]
    },
    {
      "metadata": {},
      "cell_type": "markdown",
      "source": "## 利用现有IOL公式计算\n\n直接用机器学习猜出所有的公式可能需要很多数据, 所以不妨先使用现有公式进行初步的运算, 然后再用机器学习来拟合残差, 可能效果会更好\n\n似乎也没啥作用, 反正先放在这吧"
    },
    {
      "metadata": {
        "trusted": true
      },
      "cell_type": "code",
      "source": "# from compute_IOL import SRK_T # 这是以前写过的人工晶体计算公式, 存放再compute_IOL.py中, 此处直接导入",
      "execution_count": 12,
      "outputs": []
    },
    {
      "metadata": {
        "trusted": true
      },
      "cell_type": "code",
      "source": "# A_const_dict={\"hoya\":118.4,} # 此处根据不同的IOL_type来设定A常数\n# IOL_calc_func=SRK_T",
      "execution_count": 13,
      "outputs": []
    },
    {
      "metadata": {
        "trusted": true
      },
      "cell_type": "code",
      "source": "# df['IOL_calc']=df.apply(lambda row: \n#                         IOL_calc_func(row['AL'], \n#                               (row[\"K1\"]+row[\"K2\"])/2, \n#                               A_const_dict[row['IOL_type']], \n#                               row[\"target\"]), \n#                         axis=1)",
      "execution_count": 14,
      "outputs": []
    },
    {
      "metadata": {},
      "cell_type": "markdown",
      "source": "## 数据分组\n\n将清理后数据分成: X, y, 用X来估计y, 其中又要分成训练集和测试集. \n\n\n"
    },
    {
      "metadata": {
        "trusted": true
      },
      "cell_type": "code",
      "source": "X_columns=['age', 'male','female', 'OD','OS', 'op1', \n             'AL', 'K1', 'K2', 'ACD',\n#              'Pen_B','UBM_B', 'ACD_Pen',\n             'IOL', 'target', \n#            \"IOL_calc\"\n          ]\nX=df[X_columns]",
      "execution_count": 15,
      "outputs": []
    },
    {
      "metadata": {
        "trusted": true
      },
      "cell_type": "code",
      "source": "y_columns=['DS', 'DC']\ny=df['DS']+df['DC']/2",
      "execution_count": 16,
      "outputs": []
    },
    {
      "metadata": {
        "trusted": true
      },
      "cell_type": "code",
      "source": "random_state=0\nX_train, X_test, y_train, y_test = train_test_split(\n                                X, y, test_size=0.2, random_state=random_state) # 总数据中有20%的数据作为测试集",
      "execution_count": 17,
      "outputs": []
    },
    {
      "metadata": {
        "trusted": true,
        "scrolled": true
      },
      "cell_type": "code",
      "source": "print(\"训练集中, X_train具有{}行数据, y_train具有{}行数据\".format(len(X_train),len(y_train)))\nprint(\"测试集中, X_test具有{}行数据, y_test具有{}行数据\".format(len(X_test),len(y_test)))",
      "execution_count": 18,
      "outputs": [
        {
          "output_type": "stream",
          "text": "训练集中, X_train具有25行数据, y_train具有25行数据\n测试集中, X_test具有7行数据, y_test具有7行数据\n",
          "name": "stdout"
        }
      ]
    },
    {
      "metadata": {},
      "cell_type": "markdown",
      "source": "## 机器学习\n"
    },
    {
      "metadata": {},
      "cell_type": "markdown",
      "source": "### 随机森林拟合\n\n随机森林反正是设置最简单的模型了. 拿这个试试先.\n\n使用"
    },
    {
      "metadata": {
        "trusted": true,
        "scrolled": true
      },
      "cell_type": "code",
      "source": "print(\"使用以下变量作为X:\\n{}\".format(X_columns))\nprint(\"对以下变量进行预测y:\\n{}\".format(y_columns))",
      "execution_count": 19,
      "outputs": [
        {
          "output_type": "stream",
          "text": "使用以下变量作为X:\n['age', 'male', 'female', 'OD', 'OS', 'op1', 'AL', 'K1', 'K2', 'ACD', 'IOL', 'target']\n对以下变量进行预测y:\n['DS', 'DC']\n",
          "name": "stdout"
        }
      ]
    },
    {
      "metadata": {
        "trusted": true
      },
      "cell_type": "code",
      "source": "# 导入必要的工具包\nfrom sklearn.model_selection import cross_val_score, GridSearchCV\nfrom sklearn.ensemble import RandomForestRegressor\nfrom sklearn.preprocessing import MinMaxScaler\nfrom sklearn.preprocessing import StandardScaler\nfrom sklearn import metrics\nimport matplotlib.pyplot as plt\nimport numpy as np\n%matplotlib inline",
      "execution_count": 20,
      "outputs": []
    },
    {
      "metadata": {
        "trusted": true
      },
      "cell_type": "code",
      "source": "# Feature Scaling\n# 将输入的数据进行缩放, 归一化, 这一步并非必须, 但是可能提高模型的训练效果. \nsc = StandardScaler()\nX_train = sc.fit_transform(X_train)\nX_test = sc.transform(X_test)",
      "execution_count": 21,
      "outputs": [
        {
          "output_type": "stream",
          "text": "/home/nbuser/anaconda3_501/lib/python3.6/site-packages/sklearn/preprocessing/data.py:645: DataConversionWarning: Data with input dtype uint8, float64 were all converted to float64 by StandardScaler.\n  return self.partial_fit(X, y)\n/home/nbuser/anaconda3_501/lib/python3.6/site-packages/sklearn/base.py:464: DataConversionWarning: Data with input dtype uint8, float64 were all converted to float64 by StandardScaler.\n  return self.fit(X, **fit_params).transform(X)\n/home/nbuser/anaconda3_501/lib/python3.6/site-packages/ipykernel/__main__.py:4: DataConversionWarning: Data with input dtype uint8, float64 were all converted to float64 by StandardScaler.\n",
          "name": "stderr"
        }
      ]
    },
    {
      "metadata": {
        "trusted": true,
        "scrolled": true
      },
      "cell_type": "code",
      "source": "# 定义一个函数, 用来评估模型, 输出各种评估数据和绘图\ndef evaluate_model(regressor, X_train, y_train, X_test, y_test, y_pred):\n    print('对预测结果的评估')\n    print('Mean Absolute Error:', metrics.mean_absolute_error(y_test, y_pred))\n    print('Mean Squared Error:', metrics.mean_squared_error(y_test, y_pred))\n    print('Root Mean Squared Error:', np.sqrt(metrics.mean_squared_error(y_test, y_pred)))\n    print('R-squared score (training): {:.3f}'\n         .format(regressor.score(X_train, y_train)))\n    print('R-squared score (test): {:.3f}'\n         .format(regressor.score(X_test, y_test)))\n    fig, ax = plt.subplots()\n    ax.plot(np.linspace(-2,1,20),np.linspace(-2,1,20),'-')\n    ax.plot(y_test, y_pred, 'o')",
      "execution_count": 22,
      "outputs": []
    },
    {
      "metadata": {
        "trusted": true
      },
      "cell_type": "code",
      "source": "# 使用RandomForestRegressor建立一个拟合器\nreg1 = RandomForestRegressor(n_estimators=100, random_state=random_state)\n# 代入训练集进行训练\nreg1.fit(X_train, y_train)\n# 用训练好的模型对测试集进行训练\ny_pred = reg1.predict(X_test)\n# 评估结果\nevaluate_model(reg1,X_train, y_train, X_test, y_test, y_pred)",
      "execution_count": 23,
      "outputs": [
        {
          "output_type": "stream",
          "text": "对预测结果的评估\nMean Absolute Error: 0.5442857142857143\nMean Squared Error: 0.3893178571428572\nRoot Mean Squared Error: 0.6239534094328335\nR-squared score (training): 0.878\nR-squared score (test): -0.545\n",
          "name": "stdout"
        },
        {
          "output_type": "display_data",
          "data": {
            "image/png": "[encoded data removed]",
            "text/plain": "<Figure size 432x288 with 1 Axes>"
          },
          "metadata": {
            "needs_background": "light"
          }
        }
      ]
    },
    {
      "metadata": {},
      "cell_type": "markdown",
      "source": "## GradientBoostingRegressor"
    },
    {
      "metadata": {
        "trusted": true
      },
      "cell_type": "code",
      "source": "from sklearn.ensemble import GradientBoostingRegressor",
      "execution_count": 24,
      "outputs": []
    },
    {
      "metadata": {
        "trusted": true
      },
      "cell_type": "code",
      "source": "# 使用 GradientBoostingRegressor 建立一个拟合器\nreg2 = GradientBoostingRegressor(n_estimators=10, random_state=random_state)\n# 代入训练集进行训练\nreg2.fit(X_train, y_train)\n# 用训练好的模型对测试集进行训练\ny_pred = reg2.predict(X_test)\n# 评估结果\nevaluate_model(reg2, X_train, y_train, X_test, y_test, y_pred)",
      "execution_count": 25,
      "outputs": [
        {
          "output_type": "stream",
          "text": "对预测结果的评估\nMean Absolute Error: 0.5598175725726076\nMean Squared Error: 0.407595652795316\nRoot Mean Squared Error: 0.6384321833956337\nR-squared score (training): 0.728\nR-squared score (test): -0.618\n",
          "name": "stdout"
        },
        {
          "output_type": "display_data",
          "data": {
            "image/png": "[encoded data removed]",
            "text/plain": "<Figure size 432x288 with 1 Axes>"
          },
          "metadata": {
            "needs_background": "light"
          }
        }
      ]
    },
    {
      "metadata": {
        "trusted": true
      },
      "cell_type": "code",
      "source": "",
      "execution_count": null,
      "outputs": []
    }
  ],
  "metadata": {
    "kernelspec": {
      "name": "python36",
      "display_name": "Python 3.6",
      "language": "python"
    },
    "language_info": {
      "mimetype": "text/x-python",
      "nbconvert_exporter": "python",
      "name": "python",
      "pygments_lexer": "ipython3",
      "version": "3.6.6",
      "file_extension": ".py",
      "codemirror_mode": {
        "version": 3,
        "name": "ipython"
      }
    }
  },
  "nbformat": 4,
  "nbformat_minor": 2
}